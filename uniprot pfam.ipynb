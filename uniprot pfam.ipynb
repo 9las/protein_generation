{
 "cells": [
  {
   "cell_type": "markdown",
   "metadata": {},
   "source": [
    "# Protein generator"
   ]
  },
  {
   "cell_type": "markdown",
   "metadata": {},
   "source": [
    "### Import libraries"
   ]
  },
  {
   "cell_type": "code",
   "execution_count": 1,
   "metadata": {},
   "outputs": [],
   "source": [
    "import urllib\n",
    "import pandas as pd\n",
    "from IPython.display import clear_output"
   ]
  },
  {
   "cell_type": "markdown",
   "metadata": {},
   "source": [
    "### Function of retrieve conditional tags and sequences for a pfam_id from for uniprot"
   ]
  },
  {
   "cell_type": "code",
   "execution_count": 2,
   "metadata": {},
   "outputs": [],
   "source": [
    "def get_sequence_and_conditional_tags(pfam_id):\n",
    "    with urllib.request.urlopen((\"https://www.uniprot.org/uniprot/?query=database%3A%28type%3Apfam+\"+str(pfam_id)+\"%29&precursor:no&columns=id,lineage(SUPERKINGDOM),lineage(KINGDOM),lineage(PHYLUM),lineage(CLASS),lineage(ORDER),linaege(FAMILY),lineage(GENUS),lineage(SPECIES),keywords,keyword-id,go(molecular%20function),go(cellular%20component),go(biological%20process),sequence&format=tab\")) as f:\n",
    "        query = f.read()\n",
    "        query = str(query, 'utf-8')\n",
    "    lines = query.split('\\n')\n",
    "    li_results = [x.split('\\t') for x in lines]\n",
    "    names = li_results[0]\n",
    "    results = li_results[1:]\n",
    "    return names, results"
   ]
  },
  {
   "cell_type": "markdown",
   "metadata": {},
   "source": [
    "### Function to expand a column"
   ]
  },
  {
   "cell_type": "code",
   "execution_count": 3,
   "metadata": {},
   "outputs": [],
   "source": [
    "def column_expander(df, key, splitkey):\n",
    "    splits = df[key].str.split(splitkey, expand=True)\n",
    "    new_columns = {}\n",
    "    for split in range(len(splits.loc[0])):\n",
    "        new_columns[split] = str(key)+\"_\"+str(split)\n",
    "    splits.rename(columns = new_columns, inplace = True)\n",
    "    df = pd.concat([df, splits], axis=1)\n",
    "    return df "
   ]
  },
  {
   "cell_type": "markdown",
   "metadata": {},
   "source": [
    "### Download sequences, keywords and gene ontologies from uniprot"
   ]
  },
  {
   "cell_type": "code",
   "execution_count": 4,
   "metadata": {
    "scrolled": false
   },
   "outputs": [],
   "source": [
    "pfam_id = 'pf00123'\n",
    "names, results = get_sequence_and_conditional_tags(pfam_id)"
   ]
  },
  {
   "cell_type": "code",
   "execution_count": 5,
   "metadata": {},
   "outputs": [],
   "source": [
    "df = pd.DataFrame(results, columns=names)\n",
    "df = df.dropna()"
   ]
  },
  {
   "cell_type": "code",
   "execution_count": 6,
   "metadata": {},
   "outputs": [],
   "source": [
    "expand = {'Keyword ID':\"; \",\n",
    "          'Gene ontology (molecular function)':\"; \",\n",
    "          'Gene ontology (cellular component)':\"; \",\n",
    "          'Gene ontology (biological process)':\"; \",\n",
    "          'Keywords':\";\"}\n",
    "\n",
    "for column in expand:\n",
    "    df = column_expander(df, column, expand[column])\n",
    "    df.drop(column, axis='columns', inplace=True)"
   ]
  },
  {
   "cell_type": "code",
   "execution_count": 7,
   "metadata": {},
   "outputs": [],
   "source": [
    "seq = df['Sequence']"
   ]
  },
  {
   "cell_type": "code",
   "execution_count": 8,
   "metadata": {},
   "outputs": [],
   "source": [
    "df.drop('Sequence', axis='columns', inplace=True)"
   ]
  },
  {
   "cell_type": "code",
   "execution_count": 9,
   "metadata": {},
   "outputs": [],
   "source": [
    "df['Sequence'] = seq"
   ]
  },
  {
   "cell_type": "code",
   "execution_count": 11,
   "metadata": {},
   "outputs": [],
   "source": [
    "df.to_csv(\"dataset.csv\")"
   ]
  },
  {
   "cell_type": "code",
   "execution_count": 11,
   "metadata": {},
   "outputs": [
    {
     "data": {
      "text/plain": [
       "Entry                                                                          Q29W19\n",
       "Taxonomic lineage (SUPERKINGDOM)                                            Eukaryota\n",
       "Taxonomic lineage (KINGDOM)                                                   Metazoa\n",
       "Taxonomic lineage (PHYLUM)                                                   Chordata\n",
       "Taxonomic lineage (CLASS)                                                    Mammalia\n",
       "                                                          ...                        \n",
       "Keywords_10                                                                      None\n",
       "Keywords_11                                                                      None\n",
       "Keywords_12                                                                      None\n",
       "Keywords_13                                                                      None\n",
       "Sequence                            MTMCSGARLALLVYGILMHSSVYGSPAASGLRFPGIRPENEVYDED...\n",
       "Name: 1, Length: 97, dtype: object"
      ]
     },
     "execution_count": 11,
     "metadata": {},
     "output_type": "execute_result"
    }
   ],
   "source": [
    "df.loc[1]"
   ]
  },
  {
   "cell_type": "code",
   "execution_count": null,
   "metadata": {},
   "outputs": [],
   "source": []
  }
 ],
 "metadata": {
  "kernelspec": {
   "display_name": "Python 3",
   "language": "python",
   "name": "python3"
  },
  "language_info": {
   "codemirror_mode": {
    "name": "ipython",
    "version": 3
   },
   "file_extension": ".py",
   "mimetype": "text/x-python",
   "name": "python",
   "nbconvert_exporter": "python",
   "pygments_lexer": "ipython3",
   "version": "3.8.3"
  }
 },
 "nbformat": 4,
 "nbformat_minor": 4
}
