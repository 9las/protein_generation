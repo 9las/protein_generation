{
 "cells": [
  {
   "cell_type": "markdown",
   "metadata": {},
   "source": [
    "# Protein generator"
   ]
  },
  {
   "cell_type": "markdown",
   "metadata": {},
   "source": [
    "### Import libraries"
   ]
  },
  {
   "cell_type": "code",
   "execution_count": 1,
   "metadata": {},
   "outputs": [],
   "source": [
    "import urllib\n",
    "import pandas as pd"
   ]
  },
  {
   "cell_type": "markdown",
   "metadata": {},
   "source": [
    "### Function of retrieve a protein family"
   ]
  },
  {
   "cell_type": "code",
   "execution_count": 129,
   "metadata": {},
   "outputs": [],
   "source": [
    "def get_protein_family(protein_family):\n",
    "    library = {}\n",
    "    with urllib.request.urlopen((\"https://pfam.xfam.org/family/\"+protein_family+\"/alignment/uniprot\")) as f:\n",
    "        query = f.read()\n",
    "    query = str(query, 'utf-8').split(\"\\n\")\n",
    "    for entry in query:\n",
    "        if (not \"#\" in entry) and len(entry)>2 :\n",
    "            uniprot_id, sequence = entry.split()\n",
    "            library[uniprot_id] = sequence\n",
    "    return library    "
   ]
  },
  {
   "cell_type": "markdown",
   "metadata": {},
   "source": [
    "### Function of retrieve conditional tags for a uniprot ID - too slow :-("
   ]
  },
  {
   "cell_type": "code",
   "execution_count": 133,
   "metadata": {},
   "outputs": [],
   "source": [
    "def get_conditional_tags(uniprot_id):\n",
    "    conditional_tags = {}\n",
    "    with urllib.request.urlopen((\"https://www.uniprot.org/uniprot/?query=\"+str(uniprot_id)+\"&sort=score&columns=id,organism,go(molecular%20function),go(cellular%20component),go(biological%20process)&format=tab\")) as f:\n",
    "        query = f.read()\n",
    "    query = str(query, 'utf-8')\n",
    "    lines = query.split('\\n')\n",
    "    li_results = [x.split('\\t') for x in lines]\n",
    "    conditions = li_results[0]\n",
    "    tags = li_results[1]\n",
    "    for condition,tag in zip(conditions,tags):\n",
    "        conditional_tags[condition] = tag\n",
    "    return conditional_tags"
   ]
  },
  {
   "cell_type": "code",
   "execution_count": 146,
   "metadata": {},
   "outputs": [],
   "source": [
    "family = 'PF00159'\n",
    "library = get_protein_family(family)"
   ]
  },
  {
   "cell_type": "code",
   "execution_count": 147,
   "metadata": {},
   "outputs": [],
   "source": [
    "peptide=list(library.keys())\n",
    "#uniprot_id =\"A0A2R8ZHC5.1/98-124\"\n",
    "uniprot_id = peptide"
   ]
  },
  {
   "cell_type": "code",
   "execution_count": 155,
   "metadata": {
    "scrolled": false
   },
   "outputs": [
    {
     "name": "stdout",
     "output_type": "stream",
     "text": [
      "10 1060 0.9433962264150944\n",
      "20 1060 1.8867924528301887\n",
      "30 1060 2.8301886792452833\n",
      "40 1060 3.7735849056603774\n",
      "50 1060 4.716981132075472\n",
      "60 1060 5.660377358490567\n",
      "70 1060 6.60377358490566\n",
      "80 1060 7.547169811320755\n",
      "90 1060 8.49056603773585\n",
      "100 1060 9.433962264150944\n",
      "110 1060 10.377358490566039\n",
      "120 1060 11.320754716981133\n",
      "130 1060 12.264150943396226\n",
      "140 1060 13.20754716981132\n",
      "150 1060 14.150943396226415\n",
      "160 1060 15.09433962264151\n",
      "170 1060 16.037735849056602\n",
      "180 1060 16.9811320754717\n",
      "190 1060 17.92452830188679\n",
      "200 1060 18.867924528301888\n",
      "210 1060 19.81132075471698\n",
      "220 1060 20.754716981132077\n",
      "230 1060 21.69811320754717\n",
      "240 1060 22.641509433962266\n",
      "250 1060 23.58490566037736\n",
      "260 1060 24.528301886792452\n",
      "270 1060 25.471698113207548\n",
      "280 1060 26.41509433962264\n",
      "290 1060 27.358490566037734\n",
      "300 1060 28.30188679245283\n",
      "310 1060 29.245283018867923\n",
      "320 1060 30.18867924528302\n",
      "330 1060 31.132075471698112\n",
      "340 1060 32.075471698113205\n",
      "350 1060 33.0188679245283\n",
      "360 1060 33.9622641509434\n",
      "370 1060 34.90566037735849\n",
      "380 1060 35.84905660377358\n",
      "390 1060 36.79245283018868\n",
      "400 1060 37.735849056603776\n",
      "410 1060 38.67924528301887\n",
      "420 1060 39.62264150943396\n",
      "430 1060 40.56603773584906\n",
      "440 1060 41.509433962264154\n",
      "450 1060 42.45283018867924\n",
      "460 1060 43.39622641509434\n",
      "470 1060 44.339622641509436\n",
      "480 1060 45.28301886792453\n",
      "490 1060 46.22641509433962\n",
      "500 1060 47.16981132075472\n",
      "510 1060 48.113207547169814\n",
      "520 1060 49.056603773584904\n",
      "530 1060 50.0\n",
      "540 1060 50.943396226415096\n",
      "550 1060 51.886792452830186\n",
      "560 1060 52.83018867924528\n",
      "570 1060 53.77358490566038\n",
      "580 1060 54.71698113207547\n",
      "590 1060 55.660377358490564\n",
      "600 1060 56.60377358490566\n",
      "610 1060 57.54716981132076\n",
      "620 1060 58.490566037735846\n",
      "630 1060 59.43396226415094\n",
      "640 1060 60.37735849056604\n",
      "650 1060 61.32075471698113\n",
      "660 1060 62.264150943396224\n",
      "670 1060 63.20754716981132\n",
      "680 1060 64.15094339622641\n",
      "690 1060 65.09433962264151\n",
      "700 1060 66.0377358490566\n",
      "710 1060 66.98113207547169\n",
      "720 1060 67.9245283018868\n",
      "730 1060 68.86792452830188\n",
      "740 1060 69.81132075471697\n",
      "750 1060 70.75471698113208\n",
      "760 1060 71.69811320754717\n",
      "770 1060 72.64150943396226\n",
      "780 1060 73.58490566037736\n",
      "790 1060 74.52830188679245\n",
      "800 1060 75.47169811320755\n",
      "810 1060 76.41509433962264\n",
      "820 1060 77.35849056603774\n",
      "830 1060 78.30188679245283\n",
      "840 1060 79.24528301886792\n",
      "850 1060 80.18867924528303\n",
      "860 1060 81.13207547169812\n",
      "870 1060 82.0754716981132\n",
      "880 1060 83.01886792452831\n",
      "890 1060 83.9622641509434\n",
      "900 1060 84.90566037735849\n",
      "910 1060 85.84905660377359\n",
      "920 1060 86.79245283018868\n",
      "930 1060 87.73584905660378\n",
      "940 1060 88.67924528301887\n",
      "950 1060 89.62264150943396\n",
      "960 1060 90.56603773584906\n",
      "970 1060 91.50943396226415\n",
      "980 1060 92.45283018867924\n",
      "990 1060 93.39622641509435\n",
      "1000 1060 94.33962264150944\n",
      "1010 1060 95.28301886792453\n",
      "1020 1060 96.22641509433963\n",
      "1030 1060 97.16981132075472\n",
      "1040 1060 98.11320754716981\n",
      "1050 1060 99.05660377358491\n",
      "1060 1060 100.0\n"
     ]
    }
   ],
   "source": [
    "data = {}\n",
    "for uniprot_id in library:\n",
    "    tags = get_conditional_tags(uniprot_id)\n",
    "    data[uniprot_id] = [library[uniprot_id], tags]"
   ]
  },
  {
   "cell_type": "code",
   "execution_count": 194,
   "metadata": {},
   "outputs": [],
   "source": [
    "peptide=list(data.keys())[218]"
   ]
  },
  {
   "cell_type": "code",
   "execution_count": 195,
   "metadata": {},
   "outputs": [
    {
     "data": {
      "text/plain": [
       "(['PPKPENPG..EDAPPEELAKYYTALRHYINLITRQRY',\n",
       "  {'Entry': 'A0A3B4FZG0',\n",
       "   'Organism': 'Pundamilia nyererei',\n",
       "   'Gene ontology (molecular function)': 'hormone activity [GO:0005179]; type 2 neuropeptide Y receptor binding [GO:0031843]',\n",
       "   'Gene ontology (cellular component)': 'extracellular region [GO:0005576]',\n",
       "   'Gene ontology (biological process)': ''}],\n",
       " 'A0A3B4FZG0.1/30-64')"
      ]
     },
     "execution_count": 195,
     "metadata": {},
     "output_type": "execute_result"
    }
   ],
   "source": [
    "data[peptide], peptide"
   ]
  },
  {
   "cell_type": "code",
   "execution_count": null,
   "metadata": {},
   "outputs": [],
   "source": []
  }
 ],
 "metadata": {
  "kernelspec": {
   "display_name": "Python 3",
   "language": "python",
   "name": "python3"
  },
  "language_info": {
   "codemirror_mode": {
    "name": "ipython",
    "version": 3
   },
   "file_extension": ".py",
   "mimetype": "text/x-python",
   "name": "python",
   "nbconvert_exporter": "python",
   "pygments_lexer": "ipython3",
   "version": "3.8.3"
  }
 },
 "nbformat": 4,
 "nbformat_minor": 4
}
