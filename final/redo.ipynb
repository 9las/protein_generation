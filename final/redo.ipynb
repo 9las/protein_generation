{
  "nbformat": 4,
  "nbformat_minor": 0,
  "metadata": {
    "colab": {
      "name": "redo",
      "provenance": [],
      "collapsed_sections": [],
      "authorship_tag": "ABX9TyPfVE8jslIZXfDijKl2+wjh",
      "include_colab_link": true
    },
    "kernelspec": {
      "name": "python3",
      "display_name": "Python 3"
    }
  },
  "cells": [
    {
      "cell_type": "markdown",
      "metadata": {
        "id": "view-in-github",
        "colab_type": "text"
      },
      "source": [
        "<a href=\"https://colab.research.google.com/github/marcoplacenti/protein_generation/blob/main/final/redo.ipynb\" target=\"_parent\"><img src=\"https://colab.research.google.com/assets/colab-badge.svg\" alt=\"Open In Colab\"/></a>"
      ]
    },
    {
      "cell_type": "code",
      "metadata": {
        "id": "Hrh7uny1abve"
      },
      "source": [
        "from google.colab import drive\n",
        "import torch, sys\n",
        "import pandas as pd\n",
        "import numpy as np  \n",
        "from torch import nn\n",
        "import torch.nn.functional as F\n",
        "from torchtext import data\n",
        "import torch.distributions as dist\n",
        "import random\n",
        "torch.cuda.empty_cache()\n",
        "device = torch.device(\"cuda\" if torch.cuda.is_available() else \"cpu\")"
      ],
      "execution_count": 291,
      "outputs": []
    },
    {
      "cell_type": "code",
      "metadata": {
        "id": "sxw17ufMgNPt",
        "colab": {
          "base_uri": "https://localhost:8080/"
        },
        "outputId": "aeca8da1-12fe-4042-a7c3-154550fde823"
      },
      "source": [
        "from google.colab import drive\n",
        "drive.mount('/content/drive')"
      ],
      "execution_count": 292,
      "outputs": [
        {
          "output_type": "stream",
          "text": [
            "Drive already mounted at /content/drive; to attempt to forcibly remount, call drive.mount(\"/content/drive\", force_remount=True).\n"
          ],
          "name": "stdout"
        }
      ]
    },
    {
      "cell_type": "code",
      "metadata": {
        "colab": {
          "base_uri": "https://localhost:8080/"
        },
        "id": "qS6Bs38vydfG",
        "outputId": "eb14c26d-8b04-4cba-9c43-8cf2d3ce0f5b"
      },
      "source": [
        "cd /content/drive/MyDrive/'Colab Notebooks'/project/"
      ],
      "execution_count": 293,
      "outputs": [
        {
          "output_type": "stream",
          "text": [
            "/content/drive/MyDrive/Colab Notebooks/project\n"
          ],
          "name": "stdout"
        }
      ]
    },
    {
      "cell_type": "code",
      "metadata": {
        "id": "0acy6-F7gq0D"
      },
      "source": [
        "def process_data(data, vocab, max_seq):\n",
        "    token_to_id, id_to_token = {}, {}\n",
        "    \n",
        "    token_to_id[\"<PAD>\"] = 0\n",
        "    id_to_token[0] = \"<PAD>\"\n",
        "\n",
        "    token_to_id[\"<EOS>\"] = 1\n",
        "    id_to_token[1] = \"<EOS>\"\n",
        "\n",
        "    token_to_id[\"<DUMMY>\"] = 2\n",
        "    id_to_token[2] = \"<DUMMY>\"\n",
        "\n",
        "    for i, token in enumerate(vocab):\n",
        "        cum_i = len(token_to_id.keys())\n",
        "        if token != \"<PAD>\" and token != \"<EOS>\" and token != \"<DUMMY>\":\n",
        "            token_to_id[token] = cum_i\n",
        "            id_to_token[cum_i] = token\n",
        "            cum_i += 1\n",
        "\n",
        "    seq = []\n",
        "    for record in data.values:\n",
        "        tags = record[:-1]\n",
        "        sequence = record[-1]\n",
        "        \n",
        "        encoded_record = [token_to_id[tag] for tag in tags]\n",
        "\n",
        "        for char in sequence:\n",
        "            encoded_record.append(token_to_id[char])\n",
        "        #encoded_record.append(token_to_id[\"<EOS>\"])\n",
        "        \n",
        "        if len(sequence) < max_seq:\n",
        "            for i in range(max_seq-len(sequence)):\n",
        "                encoded_record.append(token_to_id[\"<PAD>\"])\n",
        "\n",
        "        seq.append(encoded_record)\n",
        "\n",
        "    return np.array(seq), token_to_id, id_to_token"
      ],
      "execution_count": 433,
      "outputs": []
    },
    {
      "cell_type": "code",
      "metadata": {
        "id": "quzuw8D9g0RM"
      },
      "source": [
        "def get_data(dataset):\n",
        "    data = pd.read_csv(dataset)\n",
        "\n",
        "    data = data.replace(np.nan, '<DUMMY>', regex=True)\n",
        "    #data.drop(\"Unnamed: 0\", axis=1, inplace=True)\n",
        "    #data.drop(\"Entry\", axis=1, inplace=True)\n",
        "    #print(data.columns)\n",
        "    max_length = int(data['Sequence'].str.len().max())\n",
        "    data = data[data[\"Sequence\"].map(len) <= max_length]\n",
        "    vocab = set()\n",
        "    for col in data.columns:\n",
        "        if col != \"Sequence\":\n",
        "            vocab.update(data[col])\n",
        "\n",
        "    seq_len = []\n",
        "    max_seq = 0\n",
        "    for seq in data[\"Sequence\"]:\n",
        "        seq = [s for s in seq]\n",
        "        seq_len.append(len(seq))\n",
        "        if len(seq) > max_seq:\n",
        "            max_seq = len(seq)\n",
        "        vocab.update(seq)\n",
        "\n",
        "    vocab.update([\"<PAD>\"])\n",
        "    vocab.update([\"<EOS>\"])\n",
        "\n",
        "    return data, vocab, max_seq"
      ],
      "execution_count": 295,
      "outputs": []
    },
    {
      "cell_type": "code",
      "metadata": {
        "id": "pWooCQBjgyw5"
      },
      "source": [
        "class ProGen(nn.Module):\n",
        "  \n",
        "  def __init__(self, hid_size, vocab_size, n_head, n_layers, pf_size, max_len, device):\n",
        "    super().__init__()\n",
        "\n",
        "    self.device = device\n",
        "    self.hid_size = hid_size\n",
        "    self.pf_size = pf_size\n",
        "    self.max_len = max_len\n",
        "    self.embedding = nn.Embedding(vocab_size, hid_size)\n",
        "    self.position_enc = nn.Embedding(self.max_len, self.hid_size)\n",
        "    self.position_enc.weight.data = self.position_encoding_init(self.max_len, self.hid_size)\n",
        "    self.scale = torch.sqrt(torch.FloatTensor([self.hid_size])).to(device)\n",
        "\n",
        "    self.layer_norm = nn.LayerNorm(self.hid_size)\n",
        "    self.decoder_layer = nn.TransformerDecoderLayer(d_model=hid_size, nhead = n_head, dim_feedforward=self.pf_size)\n",
        "    self.decoder = nn.TransformerDecoder(self.decoder_layer, num_layers=n_layers, norm=self.layer_norm)\n",
        "    self.fc = nn.Linear(hid_size, vocab_size)\n",
        "    self._init_weights()\n",
        "  \n",
        "  def forward(self, x):\n",
        "    sent_len, batch_size = x.shape[0], x.shape[1]\n",
        "    memory_mask = self.generate_complete_mask(sent_len)\n",
        "    tgt_mask = self.generate_triangular_mask(sent_len)\n",
        "    memory = torch.zeros(1, batch_size, self.hid_size, device=self.device)\n",
        "\n",
        "    temp = x\n",
        "    temp = self.embedding(temp)\n",
        "\n",
        "    pos = torch.arange(0,sent_len).unsqueeze(1).repeat(1,batch_size).to(self.device)\n",
        "    temp_pos_emb = self.position_enc(pos)\n",
        "\n",
        "    temp = temp * self.scale + temp_pos_emb\n",
        "    temp = self.decoder(temp, memory, tgt_mask=tgt_mask)\n",
        "    temp = self.fc(temp)\n",
        "    return temp\n",
        "\n",
        "  def _init_weights(self):\n",
        "    for p in self.parameters():\n",
        "      if p.dim() > 1:\n",
        "        nn.init.xavier_uniform_(p)\n",
        "\n",
        "  def append_decoder_layer(self):\n",
        "    appended_mod = nn.TransformerDecoderLayer(d_model=hid_size, nhead = n_head).to(self.device)\n",
        "    for p in appended_mod.parameters():\n",
        "      if p.dim() > 1:\n",
        "        nn.init.xavier_uniform_(p)\n",
        "    model.decoder.layers.append(appended_mod)\n",
        "    model.decoder.num_layers += 1\n",
        "\n",
        "  def generate_triangular_mask(self, size):\n",
        "        r\"\"\"Generate a square mask for the sequence. The masked positions are filled with float('-inf').\n",
        "            Unmasked positions are filled with float(0.0).\n",
        "        \"\"\"\n",
        "        mask = (torch.triu(torch.ones(size, size)) == 1).transpose(0, 1)\n",
        "        mask = mask.float().masked_fill(mask == 0, float('-inf')).masked_fill(mask == 1, float(0.0)).to(device)\n",
        "        return\n",
        "        \n",
        "  def generate_complete_mask(self, size):\n",
        "        r\"\"\"Generate a square mask for the sequence. The masked positions are filled with float('-inf').\n",
        "            Unmasked positions are filled with float(0.0).\n",
        "        \"\"\"\n",
        "        mask = torch.empty(size, size).to(device)\n",
        "        mask.fill_(float('-inf'))\n",
        "        return mask\n",
        "\n",
        "  def generate_sequence(self, src):\n",
        "    #src = [sent_len]\n",
        "    src = src.unsqueeze(1)\n",
        "    #src = [sent_len, 1]\n",
        "    generate_step = 0\n",
        "    while generate_step < 120:\n",
        "      out = self.forward(src)\n",
        "      #out = [sent_len + 1, 1, vocab_size]\n",
        "      out = torch.argmax(out[-1, :], dim=1) # [1]\n",
        "      out = out.unsqueeze(0) #[1,1]\n",
        "      src = torch.cat((src, out), dim=0)\n",
        "      generate_step += 1\n",
        "    src = src.squeeze(1)\n",
        "    return src\n",
        "  \n",
        "  def position_encoding_init(self, n_position, d_pos_vec):\n",
        "    ''' Init the sinusoid position encoding table '''\n",
        "\n",
        "    # keep dim 0 for padding token position encoding zero vector\n",
        "    position_enc = np.array([\n",
        "        [pos / np.power(10000, 2*i/d_pos_vec) for i in range(d_pos_vec)]\n",
        "        if pos != 0 else np.zeros(d_pos_vec) for pos in range(n_position)])\n",
        "\n",
        "    position_enc[1:, 0::2] = np.sin(position_enc[1:, 0::2]) # dim 2i\n",
        "    position_enc[1:, 1::2] = np.cos(position_enc[1:, 1::2]) # dim 2i+1\n",
        "    temp = torch.from_numpy(position_enc).type(torch.FloatTensor)\n",
        "    temp = temp.to(self.device)\n",
        "    return temp"
      ],
      "execution_count": 477,
      "outputs": []
    },
    {
      "cell_type": "code",
      "metadata": {
        "id": "27AlSYY3hptC"
      },
      "source": [
        "def count_parameters(model):\n",
        "    return sum(p.numel() for p in model.parameters() if p.requires_grad)"
      ],
      "execution_count": 297,
      "outputs": []
    },
    {
      "cell_type": "code",
      "metadata": {
        "id": "Z1SpvL3Kkize"
      },
      "source": [
        "file = \"dataset.csv\"\n",
        "\n",
        "data, vocab, max_seq = get_data(file)\n",
        "seq, token_to_id, id_to_token = process_data(data, vocab, max_seq)\n",
        "tags_end=1#data.columns.get_loc(\"Sequence\")\n",
        "aa_read=0"
      ],
      "execution_count": 455,
      "outputs": []
    },
    {
      "cell_type": "code",
      "metadata": {
        "colab": {
          "base_uri": "https://localhost:8080/"
        },
        "id": "A4eX1Mqc-RDF",
        "outputId": "ee2bfb9b-86dd-49b4-d01b-bba875bd9de5"
      },
      "source": [
        "vocab_size = len(vocab)\n",
        "hid_size = 32\n",
        "pf_size = 16\n",
        "max_len = 120\n",
        "n_head = 4\n",
        "n_layer= 8\n",
        "model = ProGen(hid_size, vocab_size, n_head, n_layer, pf_size, max_len, device).to(device)\n",
        "print(f'The model has {count_parameters(model):,} trainable parameters')"
      ],
      "execution_count": 466,
      "outputs": [
        {
          "output_type": "stream",
          "text": [
            "The model has 161,122 trainable parameters\n"
          ],
          "name": "stdout"
        }
      ]
    },
    {
      "cell_type": "code",
      "metadata": {
        "id": "H9i4nwfkJu-8"
      },
      "source": [
        "max_len=seq.shape[1] \n",
        "\n",
        "# Preprocess strings into tensors of char ascii indexes\n",
        "inputs  = torch.zeros((len(seq), max_len)).to(torch.long).to(device)\n",
        "targets = torch.zeros((len(seq), max_len)).to(torch.long).to(device)\n",
        "\n",
        "for i, word in enumerate(seq):\n",
        "    inputs[i,  0:len(word)]   = torch.from_numpy(word)\n",
        "    targets[i, tags_end+aa_read:] = torch.from_numpy(word[tags_end+aa_read:])\n",
        "    targets[i, len(word)-1]   = 1  # <EOS> token\n",
        "\n",
        "# Split into train and test dataset\n",
        "combined = torch.stack([inputs, targets], dim=1)\n",
        "train_size = int(0.8 * len(combined))\n",
        "test_size = len(combined) - train_size\n",
        "train_ds, test_ds = torch.utils.data.random_split(combined, [train_size, test_size])\n",
        "\n",
        "train_x, train_y = combined[train_ds.indices][:, 0, :], combined[train_ds.indices][:, 1, :]\n",
        "test_x, test_y   = combined[test_ds.indices][:, 0, :],  combined[test_ds.indices][:, 1, :]"
      ],
      "execution_count": 467,
      "outputs": []
    },
    {
      "cell_type": "code",
      "metadata": {
        "colab": {
          "base_uri": "https://localhost:8080/"
        },
        "id": "JIKbWpBHlTju",
        "outputId": "12669ca4-4f1f-47be-a9a0-cb9442015b73"
      },
      "source": [
        "stats = { 'epoch':[], 'train_loss': [], 'train_perplexity': [], 'test_loss': [], 'test_perplexity': [] }\n",
        "batch_size, epochs, clip = 16, 50, 500\n",
        "\n",
        "optimizer = torch.optim.Adam(model.parameters(), lr=0.01, betas=(0.9, 0.98), eps=1e-9)\n",
        "criterion = torch.nn.CrossEntropyLoss()\n",
        "\n",
        "for i in range(epochs):\n",
        "  model.train()\n",
        "  idxs = torch.randint(size=(batch_size,), low=0, high=len(train_x))\n",
        "  src = train_x[idxs]\n",
        "  trg = train_y[idxs]\n",
        "  output = model(src)\n",
        "  optimizer.zero_grad()\n",
        "  loss = criterion(output.view(-1, output.size(-1)), trg.view(-1))\n",
        "  nn.utils.clip_grad_norm_(model.parameters(), clip)\n",
        "  loss.backward()\n",
        "  optimizer.step()\n",
        "  stats['train_loss'].append(loss.item())\n",
        "  stats['epoch'].append(i)\n",
        "  print(i, loss.item())"
      ],
      "execution_count": 468,
      "outputs": [
        {
          "output_type": "stream",
          "text": [
            "0 7.063000679016113\n",
            "1 6.5903449058532715\n",
            "2 6.242940902709961\n",
            "3 5.607173442840576\n",
            "4 5.2226786613464355\n",
            "5 4.7251362800598145\n",
            "6 4.290638446807861\n",
            "7 3.961808204650879\n",
            "8 3.6334004402160645\n",
            "9 3.3569600582122803\n",
            "10 3.1745893955230713\n",
            "11 3.0178823471069336\n",
            "12 2.8997130393981934\n",
            "13 2.8201217651367188\n",
            "14 2.721745014190674\n",
            "15 2.6656618118286133\n",
            "16 2.7201120853424072\n",
            "17 2.5644783973693848\n",
            "18 2.512864589691162\n",
            "19 2.5231502056121826\n",
            "20 2.5379514694213867\n",
            "21 2.543693780899048\n",
            "22 2.495420217514038\n",
            "23 2.4478678703308105\n",
            "24 2.5313730239868164\n",
            "25 2.445011615753174\n",
            "26 2.408094882965088\n",
            "27 2.431363821029663\n",
            "28 2.44454026222229\n",
            "29 2.483577251434326\n",
            "30 2.4214274883270264\n",
            "31 2.4991891384124756\n",
            "32 2.408017635345459\n",
            "33 2.422708749771118\n",
            "34 2.431666851043701\n",
            "35 2.42036771774292\n",
            "36 2.4477670192718506\n",
            "37 2.4012019634246826\n",
            "38 2.4095044136047363\n",
            "39 2.4028615951538086\n",
            "40 2.4413394927978516\n",
            "41 2.4790995121002197\n",
            "42 2.5486178398132324\n",
            "43 2.3796942234039307\n",
            "44 2.424682378768921\n",
            "45 2.450481414794922\n",
            "46 2.4333810806274414\n",
            "47 2.4382569789886475\n",
            "48 2.3702611923217773\n",
            "49 2.426450252532959\n"
          ],
          "name": "stdout"
        }
      ]
    },
    {
      "cell_type": "code",
      "metadata": {
        "colab": {
          "base_uri": "https://localhost:8080/",
          "height": 265
        },
        "id": "mcBrhx5dQr4b",
        "outputId": "bacd5d64-87c5-416c-d277-396acd2c7f98"
      },
      "source": [
        "import matplotlib.pyplot as plt\n",
        "plt.plot(stats['epoch'], stats['train_loss'])\n",
        "plt.show()"
      ],
      "execution_count": 470,
      "outputs": [
        {
          "output_type": "display_data",
          "data": {
            "image/png": "[encoded data removed]",
            "text/plain": [
              "<Figure size 432x288 with 1 Axes>"
            ]
          },
          "metadata": {
            "tags": [],
            "needs_background": "light"
          }
        }
      ]
    },
    {
      "cell_type": "code",
      "metadata": {
        "colab": {
          "base_uri": "https://localhost:8080/"
        },
        "id": "P-clZE_xVnPG",
        "outputId": "444db71a-2b76-4553-dfae-95f285f564fe"
      },
      "source": [
        "test_x[1,50:]"
      ],
      "execution_count": 475,
      "outputs": [
        {
          "output_type": "execute_result",
          "data": {
            "text/plain": [
              "tensor([  2,   2,   2,   2,   2,   2,   2,   2,   2,   2, 492, 426, 426, 832,\n",
              "        607, 671, 144, 174, 933, 426, 607, 426,  84, 607, 426, 607,  45, 426,\n",
              "        607, 426,  45, 607, 164, 933, 607,  84,  40,  84, 806, 144, 144, 671,\n",
              "        144, 551, 956, 144, 164, 551,  40,  84, 144, 144, 551, 551, 607,  84,\n",
              "        671, 806, 806, 933,  84, 607, 100,  28, 806, 832, 956, 607, 832, 933,\n",
              "        100, 475, 100, 806, 164, 671, 100, 901,  84, 475, 551,  40, 426, 426,\n",
              "         84, 551, 607, 607, 572, 164, 164,  40, 956, 956, 100,  40, 475, 100,\n",
              "        901, 100, 806,  40,  40, 901, 806, 492, 174,   0,   0,   0,   0,   0,\n",
              "          0,   0,   0,   0,   0,   0,   0,   0,   0,   0,   0,   0,   0,   0,\n",
              "          0,   0,   0,   0])"
            ]
          },
          "metadata": {
            "tags": []
          },
          "execution_count": 475
        }
      ]
    }
  ]
}