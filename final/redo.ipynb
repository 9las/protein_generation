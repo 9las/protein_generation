{
  "nbformat": 4,
  "nbformat_minor": 0,
  "metadata": {
    "colab": {
      "name": "redo",
      "provenance": [],
      "collapsed_sections": [],
      "authorship_tag": "ABX9TyNhbWco7hBLeN04BOKqXrvN",
      "include_colab_link": true
    },
    "kernelspec": {
      "name": "python3",
      "display_name": "Python 3"
    }
  },
  "cells": [
    {
      "cell_type": "markdown",
      "metadata": {
        "id": "view-in-github",
        "colab_type": "text"
      },
      "source": [
        "<a href=\"https://colab.research.google.com/github/marcoplacenti/protein_generation/blob/main/final/redo.ipynb\" target=\"_parent\"><img src=\"https://colab.research.google.com/assets/colab-badge.svg\" alt=\"Open In Colab\"/></a>"
      ]
    },
    {
      "cell_type": "code",
      "metadata": {
        "id": "Hrh7uny1abve"
      },
      "source": [
        "from google.colab import drive\n",
        "import torch, sys\n",
        "import pandas as pd\n",
        "import numpy as np  \n",
        "from torch import nn\n",
        "import torch.nn.functional as F\n",
        "from torchtext import data\n",
        "import torch.distributions as dist\n",
        "import random\n",
        "torch.cuda.empty_cache()\n",
        "device = torch.device(\"cuda\" if torch.cuda.is_available() else \"cpu\")"
      ],
      "execution_count": 291,
      "outputs": []
    },
    {
      "cell_type": "code",
      "metadata": {
        "id": "sxw17ufMgNPt",
        "colab": {
          "base_uri": "https://localhost:8080/"
        },
        "outputId": "aeca8da1-12fe-4042-a7c3-154550fde823"
      },
      "source": [
        "from google.colab import drive\n",
        "drive.mount('/content/drive')"
      ],
      "execution_count": 292,
      "outputs": [
        {
          "output_type": "stream",
          "text": [
            "Drive already mounted at /content/drive; to attempt to forcibly remount, call drive.mount(\"/content/drive\", force_remount=True).\n"
          ],
          "name": "stdout"
        }
      ]
    },
    {
      "cell_type": "code",
      "metadata": {
        "colab": {
          "base_uri": "https://localhost:8080/"
        },
        "id": "qS6Bs38vydfG",
        "outputId": "eb14c26d-8b04-4cba-9c43-8cf2d3ce0f5b"
      },
      "source": [
        "cd /content/drive/MyDrive/'Colab Notebooks'/project/"
      ],
      "execution_count": 293,
      "outputs": [
        {
          "output_type": "stream",
          "text": [
            "/content/drive/MyDrive/Colab Notebooks/project\n"
          ],
          "name": "stdout"
        }
      ]
    },
    {
      "cell_type": "code",
      "metadata": {
        "id": "0acy6-F7gq0D"
      },
      "source": [
        "def process_data(data, vocab, max_seq):\n",
        "    token_to_id, id_to_token = {}, {}\n",
        "    \n",
        "    token_to_id[\"<PAD>\"] = 0\n",
        "    id_to_token[0] = \"<PAD>\"\n",
        "\n",
        "    token_to_id[\"<EOS>\"] = 1\n",
        "    id_to_token[1] = \"<EOS>\"\n",
        "\n",
        "    token_to_id[\"<DUMMY>\"] = 2\n",
        "    id_to_token[2] = \"<DUMMY>\"\n",
        "\n",
        "    for i, token in enumerate(vocab):\n",
        "        cum_i = len(token_to_id.keys())\n",
        "        if token != \"<PAD>\" and token != \"<EOS>\" and token != \"<DUMMY>\":\n",
        "            token_to_id[token] = cum_i\n",
        "            id_to_token[cum_i] = token\n",
        "            cum_i += 1\n",
        "\n",
        "    seq = []\n",
        "    for record in data.values:\n",
        "        tags = record[:-1]\n",
        "        sequence = record[-1]\n",
        "        \n",
        "        encoded_record = [token_to_id[tag] for tag in tags]\n",
        "\n",
        "        for char in sequence:\n",
        "            encoded_record.append(token_to_id[char])\n",
        "        #encoded_record.append(token_to_id[\"<EOS>\"])\n",
        "        \n",
        "        if len(sequence) < max_seq:\n",
        "            for i in range(max_seq-len(sequence)):\n",
        "                encoded_record.append(token_to_id[\"<PAD>\"])\n",
        "\n",
        "        seq.append(encoded_record)\n",
        "\n",
        "    return np.array(seq), token_to_id, id_to_token"
      ],
      "execution_count": 433,
      "outputs": []
    },
    {
      "cell_type": "code",
      "metadata": {
        "id": "quzuw8D9g0RM"
      },
      "source": [
        "def get_data(dataset):\n",
        "    data = pd.read_csv(dataset)\n",
        "\n",
        "    data = data.replace(np.nan, '<DUMMY>', regex=True)\n",
        "    #data.drop(\"Unnamed: 0\", axis=1, inplace=True)\n",
        "    #data.drop(\"Entry\", axis=1, inplace=True)\n",
        "    #print(data.columns)\n",
        "    max_length = int(data['Sequence'].str.len().max())\n",
        "    data = data[data[\"Sequence\"].map(len) <= max_length]\n",
        "    vocab = set()\n",
        "    for col in data.columns:\n",
        "        if col != \"Sequence\":\n",
        "            vocab.update(data[col])\n",
        "\n",
        "    seq_len = []\n",
        "    max_seq = 0\n",
        "    for seq in data[\"Sequence\"]:\n",
        "        seq = [s for s in seq]\n",
        "        seq_len.append(len(seq))\n",
        "        if len(seq) > max_seq:\n",
        "            max_seq = len(seq)\n",
        "        vocab.update(seq)\n",
        "\n",
        "    vocab.update([\"<PAD>\"])\n",
        "    vocab.update([\"<EOS>\"])\n",
        "\n",
        "    return data, vocab, max_seq"
      ],
      "execution_count": 295,
      "outputs": []
    },
    {
      "cell_type": "code",
      "metadata": {
        "id": "pWooCQBjgyw5"
      },
      "source": [
        "class ProGen(nn.Module):\n",
        "  \n",
        "  def __init__(self, hid_size, vocab_size, n_head, n_layers, pf_size, max_len, device):\n",
        "    super().__init__()\n",
        "\n",
        "    self.device = device\n",
        "    self.hid_size = hid_size\n",
        "    self.pf_size = pf_size\n",
        "    self.max_len = max_len\n",
        "    self.embedding = nn.Embedding(vocab_size, hid_size)\n",
        "    self.position_enc = nn.Embedding(self.max_len, self.hid_size)\n",
        "    self.position_enc.weight.data = self.position_encoding_init(self.max_len, self.hid_size)\n",
        "    self.scale = torch.sqrt(torch.FloatTensor([self.hid_size])).to(device)\n",
        "\n",
        "    self.layer_norm = nn.LayerNorm(self.hid_size)\n",
        "    self.decoder_layer = nn.TransformerDecoderLayer(d_model=hid_size, nhead = n_head, dim_feedforward=self.pf_size)\n",
        "    self.decoder = nn.TransformerDecoder(self.decoder_layer, num_layers=n_layers, norm=self.layer_norm)\n",
        "    self.fc = nn.Linear(hid_size, vocab_size)\n",
        "    self._init_weights()\n",
        "  \n",
        "  def forward(self, x):\n",
        "    sent_len, batch_size = x.shape[0], x.shape[1]\n",
        "    memory_mask = self.generate_complete_mask(sent_len)\n",
        "    tgt_mask = self.generate_triangular_mask(sent_len)\n",
        "    memory = torch.zeros(1, batch_size, self.hid_size, device=self.device)\n",
        "\n",
        "    temp = x\n",
        "    temp = self.embedding(temp)\n",
        "\n",
        "    pos = torch.arange(0,sent_len).unsqueeze(1).repeat(1,batch_size).to(self.device)\n",
        "    temp_pos_emb = self.position_enc(pos)\n",
        "\n",
        "    temp = temp * self.scale + temp_pos_emb\n",
        "    temp = self.decoder(temp, memory, tgt_mask=tgt_mask)\n",
        "    temp = self.fc(temp)\n",
        "    return temp\n",
        "\n",
        "  def _init_weights(self):\n",
        "    for p in self.parameters():\n",
        "      if p.dim() > 1:\n",
        "        nn.init.xavier_uniform_(p)\n",
        "\n",
        "  def append_decoder_layer(self):\n",
        "    appended_mod = nn.TransformerDecoderLayer(d_model=hid_size, nhead = n_head).to(self.device)\n",
        "    for p in appended_mod.parameters():\n",
        "      if p.dim() > 1:\n",
        "        nn.init.xavier_uniform_(p)\n",
        "    model.decoder.layers.append(appended_mod)\n",
        "    model.decoder.num_layers += 1\n",
        "\n",
        "  def generate_triangular_mask(self, size):\n",
        "        r\"\"\"Generate a square mask for the sequence. The masked positions are filled with float('-inf').\n",
        "            Unmasked positions are filled with float(0.0).\n",
        "        \"\"\"\n",
        "        mask = (torch.triu(torch.ones(size, size)) == 1).transpose(0, 1)\n",
        "        mask = mask.float().masked_fill(mask == 0, float('-inf')).masked_fill(mask == 1, float(0.0)).to(device)\n",
        "        return\n",
        "        \n",
        "  def generate_complete_mask(self, size):\n",
        "        r\"\"\"Generate a square mask for the sequence. The masked positions are filled with float('-inf').\n",
        "            Unmasked positions are filled with float(0.0).\n",
        "        \"\"\"\n",
        "        mask = torch.empty(size, size).to(device)\n",
        "        mask.fill_(float('-inf'))\n",
        "        return mask\n",
        "\n",
        "  def generate_sequence(self, src):\n",
        "    #src = [sent_len]\n",
        "    src = src.unsqueeze(1)\n",
        "    #src = [sent_len, 1]\n",
        "    generate_step = 0\n",
        "    while generate_step < 120:\n",
        "      out = self.forward(src)\n",
        "      #out = [sent_len + 1, 1, vocab_size]\n",
        "      out = torch.argmax(out[-1, :], dim=1) # [1]\n",
        "      out = out.unsqueeze(0) #[1,1]\n",
        "      src = torch.cat((src, out), dim=0)\n",
        "      generate_step += 1\n",
        "    src = src.squeeze(1)\n",
        "    return src\n",
        "  \n",
        "  def position_encoding_init(self, n_position, d_pos_vec):\n",
        "    ''' Init the sinusoid position encoding table '''\n",
        "\n",
        "    # keep dim 0 for padding token position encoding zero vector\n",
        "    position_enc = np.array([\n",
        "        [pos / np.power(10000, 2*i/d_pos_vec) for i in range(d_pos_vec)]\n",
        "        if pos != 0 else np.zeros(d_pos_vec) for pos in range(n_position)])\n",
        "\n",
        "    position_enc[1:, 0::2] = np.sin(position_enc[1:, 0::2]) # dim 2i\n",
        "    position_enc[1:, 1::2] = np.cos(position_enc[1:, 1::2]) # dim 2i+1\n",
        "    temp = torch.from_numpy(position_enc).type(torch.FloatTensor)\n",
        "    temp = temp.to(self.device)\n",
        "    return temp"
      ],
      "execution_count": 477,
      "outputs": []
    },
    {
      "cell_type": "code",
      "metadata": {
        "id": "27AlSYY3hptC"
      },
      "source": [
        "def count_parameters(model):\n",
        "    return sum(p.numel() for p in model.parameters() if p.requires_grad)"
      ],
      "execution_count": 297,
      "outputs": []
    },
    {
      "cell_type": "code",
      "metadata": {
        "id": "Z1SpvL3Kkize"
      },
      "source": [
        "file = \"dataset.csv\"\n",
        "\n",
        "data, vocab, max_seq = get_data(file)\n",
        "seq, token_to_id, id_to_token = process_data(data, vocab, max_seq)"
      ],
      "execution_count": 511,
      "outputs": []
    },
    {
      "cell_type": "code",
      "metadata": {
        "colab": {
          "base_uri": "https://localhost:8080/"
        },
        "id": "A4eX1Mqc-RDF",
        "outputId": "17630692-7818-4269-d8a2-b20e4518ebfc"
      },
      "source": [
        "vocab_size = len(vocab)\n",
        "hid_size = 32\n",
        "pf_size = 16\n",
        "max_len = 120\n",
        "n_head = 4\n",
        "n_layer= 8\n",
        "model = ProGen(hid_size, vocab_size, n_head, n_layer, pf_size, max_len, device).to(device)\n",
        "print(f'The model has {count_parameters(model):,} trainable parameters')"
      ],
      "execution_count": 512,
      "outputs": [
        {
          "output_type": "stream",
          "text": [
            "The model has 161,122 trainable parameters\n"
          ],
          "name": "stdout"
        }
      ]
    },
    {
      "cell_type": "code",
      "metadata": {
        "id": "sbGladr3YVjI"
      },
      "source": [
        "bptt = 35\n",
        "def get_batch(source, i):\n",
        "    seq_len = min(bptt, len(source) - 1 - i)\n",
        "    data = source[i:i+seq_len]\n",
        "    target = source[i+1:i+1+seq_len].reshape(-1)\n",
        "    return data, target"
      ],
      "execution_count": 513,
      "outputs": []
    },
    {
      "cell_type": "code",
      "metadata": {
        "id": "bfqTIEKvYX-I"
      },
      "source": [
        "seq=torch.from_numpy(seq)"
      ],
      "execution_count": 514,
      "outputs": []
    },
    {
      "cell_type": "code",
      "metadata": {
        "colab": {
          "base_uri": "https://localhost:8080/"
        },
        "id": "JIKbWpBHlTju",
        "outputId": "415c4c62-daaa-420d-dd2a-b094a2e01f4d"
      },
      "source": [
        "stats = { 'epoch':[], 'train_loss': [], 'train_perplexity': [], 'test_loss': [], 'test_perplexity': [] }\n",
        "batch_size, epochs, clip = 16, 200, 500\n",
        "\n",
        "optimizer = torch.optim.Adam(model.parameters(), lr=0.01, betas=(0.9, 0.98), eps=1e-9)\n",
        "criterion = torch.nn.CrossEntropyLoss()\n",
        "\n",
        "for i in range(epochs):\n",
        "  data, targets = get_batch(seq, i)\n",
        "  optimizer.zero_grad()\n",
        "  output = model(data)\n",
        "  loss = criterion(output.view(-1, len(vocab)), targets)\n",
        "  loss.backward()\n",
        "  torch.nn.utils.clip_grad_norm_(model.parameters(), 0.5)\n",
        "  optimizer.step()\n",
        "  total_loss += loss.item()\n",
        "  stats['epoch'].append(i)\n",
        "  stats['train_loss'].append(loss.item())\n",
        "  print(i,loss.item())"
      ],
      "execution_count": 515,
      "outputs": [
        {
          "output_type": "stream",
          "text": [
            "0 6.92336368560791\n",
            "1 6.520681381225586\n",
            "2 6.175286293029785\n",
            "3 5.58915376663208\n",
            "4 5.158373832702637\n",
            "5 4.71899938583374\n",
            "6 4.32014274597168\n",
            "7 3.9640698432922363\n",
            "8 3.6690785884857178\n",
            "9 3.4386723041534424\n",
            "10 3.274474859237671\n",
            "11 3.1297178268432617\n",
            "12 3.0211434364318848\n",
            "13 2.9239602088928223\n",
            "14 2.8185536861419678\n",
            "15 2.771613359451294\n",
            "16 2.645995855331421\n",
            "17 2.5627923011779785\n",
            "18 2.4827709197998047\n",
            "19 2.4133098125457764\n",
            "20 2.3507657051086426\n",
            "21 2.297030448913574\n",
            "22 2.241499662399292\n",
            "23 2.2194409370422363\n",
            "24 2.181461811065674\n",
            "25 2.1490275859832764\n",
            "26 2.1196694374084473\n",
            "27 2.6490957736968994\n",
            "28 2.134941339492798\n",
            "29 2.0950958728790283\n",
            "30 2.0725433826446533\n",
            "31 1.9920423030853271\n",
            "32 2.0792548656463623\n",
            "33 2.231052875518799\n",
            "34 2.00692081451416\n",
            "35 2.144277572631836\n",
            "36 2.1300559043884277\n",
            "37 2.0969722270965576\n",
            "38 2.0286571979522705\n",
            "39 1.952775478363037\n",
            "40 1.9602395296096802\n",
            "41 1.9524412155151367\n",
            "42 2.0717320442199707\n",
            "43 2.0689001083374023\n",
            "44 2.069622278213501\n",
            "45 2.11448073387146\n",
            "46 2.004620313644409\n",
            "47 2.0753719806671143\n",
            "48 1.9663002490997314\n",
            "49 1.9666070938110352\n",
            "50 1.9489233493804932\n",
            "51 1.936388373374939\n",
            "52 1.9640079736709595\n",
            "53 1.9561303853988647\n",
            "54 1.9370023012161255\n",
            "55 1.9166531562805176\n",
            "56 1.914580225944519\n",
            "57 1.9047454595565796\n",
            "58 1.9007608890533447\n",
            "59 1.9517592191696167\n",
            "60 1.9003994464874268\n",
            "61 1.8946349620819092\n",
            "62 1.9344216585159302\n",
            "63 1.8795835971832275\n",
            "64 1.8907544612884521\n",
            "65 1.8761862516403198\n",
            "66 1.9103617668151855\n",
            "67 1.8401859998703003\n",
            "68 1.901486873626709\n",
            "69 1.87278151512146\n",
            "70 1.8667610883712769\n",
            "71 1.8864316940307617\n",
            "72 1.8270548582077026\n",
            "73 1.8399263620376587\n",
            "74 1.8258984088897705\n",
            "75 1.8132253885269165\n",
            "76 1.8318989276885986\n",
            "77 1.7980926036834717\n",
            "78 1.8134443759918213\n",
            "79 1.7800242900848389\n",
            "80 1.7745075225830078\n",
            "81 1.776853322982788\n",
            "82 1.7581098079681396\n",
            "83 1.7614359855651855\n",
            "84 1.7322965860366821\n",
            "85 1.7362480163574219\n",
            "86 1.7292133569717407\n",
            "87 1.7038910388946533\n",
            "88 1.7281032800674438\n",
            "89 1.7142908573150635\n",
            "90 1.7180320024490356\n",
            "91 1.755585789680481\n",
            "92 1.7531945705413818\n",
            "93 1.7284501791000366\n",
            "94 1.746983528137207\n",
            "95 1.72672700881958\n",
            "96 1.735498309135437\n",
            "97 1.7792657613754272\n",
            "98 1.7410629987716675\n",
            "99 1.8234522342681885\n",
            "100 1.7988801002502441\n",
            "101 1.7199976444244385\n",
            "102 1.7794657945632935\n",
            "103 1.7483969926834106\n",
            "104 1.7370611429214478\n",
            "105 1.7119377851486206\n",
            "106 1.7211321592330933\n",
            "107 1.6981053352355957\n",
            "108 1.7685104608535767\n",
            "109 1.770188331604004\n",
            "110 1.7622612714767456\n",
            "111 1.7371329069137573\n",
            "112 1.7108410596847534\n",
            "113 1.725635290145874\n",
            "114 1.7225570678710938\n",
            "115 1.7072352170944214\n",
            "116 1.6950435638427734\n",
            "117 1.6780534982681274\n",
            "118 1.6882805824279785\n",
            "119 1.7073017358779907\n",
            "120 1.6981860399246216\n",
            "121 1.8155215978622437\n",
            "122 1.7350502014160156\n",
            "123 1.6985008716583252\n",
            "124 1.7028526067733765\n",
            "125 1.687544584274292\n",
            "126 1.6403262615203857\n",
            "127 1.6543993949890137\n",
            "128 1.6111235618591309\n",
            "129 1.60798978805542\n",
            "130 1.595981240272522\n",
            "131 1.6116150617599487\n",
            "132 1.6420804262161255\n",
            "133 1.6275032758712769\n",
            "134 1.673448920249939\n",
            "135 1.678754448890686\n",
            "136 1.6948246955871582\n",
            "137 1.6962488889694214\n",
            "138 1.6848615407943726\n",
            "139 1.7124369144439697\n",
            "140 1.7025158405303955\n",
            "141 1.7600603103637695\n",
            "142 1.7547575235366821\n",
            "143 1.7714405059814453\n",
            "144 1.7928706407546997\n",
            "145 1.7724618911743164\n",
            "146 1.7784312963485718\n",
            "147 1.8114182949066162\n",
            "148 1.8087934255599976\n",
            "149 1.8309892416000366\n",
            "150 1.8135665655136108\n",
            "151 1.8517265319824219\n",
            "152 1.8279825448989868\n",
            "153 1.8363115787506104\n",
            "154 1.7963045835494995\n",
            "155 1.8242981433868408\n",
            "156 1.8251808881759644\n",
            "157 1.8438893556594849\n",
            "158 1.8316341638565063\n",
            "159 1.8245453834533691\n",
            "160 1.818480134010315\n",
            "161 1.8553013801574707\n",
            "162 1.8469057083129883\n",
            "163 1.8501832485198975\n",
            "164 1.8444771766662598\n",
            "165 1.8499215841293335\n",
            "166 1.8403321504592896\n",
            "167 1.8387970924377441\n",
            "168 1.866471529006958\n",
            "169 1.8937623500823975\n",
            "170 1.8796402215957642\n",
            "171 1.8606432676315308\n",
            "172 1.8649874925613403\n",
            "173 1.8519915342330933\n",
            "174 1.8501673936843872\n",
            "175 1.8535521030426025\n",
            "176 1.8255747556686401\n",
            "177 1.8620469570159912\n",
            "178 1.8394683599472046\n",
            "179 1.8304922580718994\n",
            "180 1.8173853158950806\n",
            "181 1.7870303392410278\n",
            "182 1.7729313373565674\n",
            "183 1.7951267957687378\n",
            "184 1.8216434717178345\n",
            "185 1.8312197923660278\n",
            "186 1.875032901763916\n",
            "187 1.85935640335083\n",
            "188 1.9500434398651123\n",
            "189 1.9166325330734253\n",
            "190 1.897010326385498\n",
            "191 1.900518536567688\n",
            "192 1.875650405883789\n",
            "193 1.8858001232147217\n",
            "194 1.8990637063980103\n",
            "195 1.8937666416168213\n",
            "196 1.9675781726837158\n",
            "197 1.9473936557769775\n",
            "198 1.911573052406311\n",
            "199 1.8733172416687012\n"
          ],
          "name": "stdout"
        }
      ]
    },
    {
      "cell_type": "code",
      "metadata": {
        "colab": {
          "base_uri": "https://localhost:8080/",
          "height": 265
        },
        "id": "mcBrhx5dQr4b",
        "outputId": "afce1d15-a3f8-4f30-ae65-4e93374b8051"
      },
      "source": [
        "import matplotlib.pyplot as plt\n",
        "plt.plot(stats['epoch'], stats['train_loss'])\n",
        "plt.show()"
      ],
      "execution_count": 516,
      "outputs": [
        {
          "output_type": "display_data",
          "data": {
            "image/png": "[encoded data removed]",
            "text/plain": [
              "<Figure size 432x288 with 1 Axes>"
            ]
          },
          "metadata": {
            "tags": [],
            "needs_background": "light"
          }
        }
      ]
    },
    {
      "cell_type": "code",
      "metadata": {
        "colab": {
          "base_uri": "https://localhost:8080/"
        },
        "id": "P-clZE_xVnPG",
        "outputId": "444db71a-2b76-4553-dfae-95f285f564fe"
      },
      "source": [
        "test_x[1,50:]"
      ],
      "execution_count": 475,
      "outputs": [
        {
          "output_type": "execute_result",
          "data": {
            "text/plain": [
              "tensor([  2,   2,   2,   2,   2,   2,   2,   2,   2,   2, 492, 426, 426, 832,\n",
              "        607, 671, 144, 174, 933, 426, 607, 426,  84, 607, 426, 607,  45, 426,\n",
              "        607, 426,  45, 607, 164, 933, 607,  84,  40,  84, 806, 144, 144, 671,\n",
              "        144, 551, 956, 144, 164, 551,  40,  84, 144, 144, 551, 551, 607,  84,\n",
              "        671, 806, 806, 933,  84, 607, 100,  28, 806, 832, 956, 607, 832, 933,\n",
              "        100, 475, 100, 806, 164, 671, 100, 901,  84, 475, 551,  40, 426, 426,\n",
              "         84, 551, 607, 607, 572, 164, 164,  40, 956, 956, 100,  40, 475, 100,\n",
              "        901, 100, 806,  40,  40, 901, 806, 492, 174,   0,   0,   0,   0,   0,\n",
              "          0,   0,   0,   0,   0,   0,   0,   0,   0,   0,   0,   0,   0,   0,\n",
              "          0,   0,   0,   0])"
            ]
          },
          "metadata": {
            "tags": []
          },
          "execution_count": 475
        }
      ]
    }
  ]
}