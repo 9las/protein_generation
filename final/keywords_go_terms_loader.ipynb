{
  "nbformat": 4,
  "nbformat_minor": 0,
  "metadata": {
    "colab": {
      "name": "keywords_go_terms_loader",
      "provenance": [],
      "collapsed_sections": [],
      "authorship_tag": "ABX9TyN3nDUkqKInQ3G2iIB7YwBr",
      "include_colab_link": true
    },
    "kernelspec": {
      "name": "python3",
      "display_name": "Python 3"
    }
  },
  "cells": [
    {
      "cell_type": "markdown",
      "metadata": {
        "id": "view-in-github",
        "colab_type": "text"
      },
      "source": [
        "<a href=\"https://colab.research.google.com/github/marcoplacenti/protein_generation/blob/main/final/keywords_go_terms_loader.ipynb\" target=\"_parent\"><img src=\"https://colab.research.google.com/assets/colab-badge.svg\" alt=\"Open In Colab\"/></a>"
      ]
    },
    {
      "cell_type": "code",
      "metadata": {
        "colab": {
          "base_uri": "https://localhost:8080/"
        },
        "id": "V6_KIBrueJXr",
        "outputId": "28942ed5-ad25-41c9-f346-cd9f2ca9dd54"
      },
      "source": [
        "import urllib.request\n",
        "import pandas as pd\n",
        "from IPython.display import clear_output\n",
        "import numpy as np\n",
        "from google.colab import drive\n",
        "import matplotlib.pyplot as plt\n",
        "drive.mount('/content/drive')\n",
        "import requests, sys\n",
        "import json"
      ],
      "execution_count": null,
      "outputs": [
        {
          "output_type": "stream",
          "text": [
            "Drive already mounted at /content/drive; to attempt to forcibly remount, call drive.mount(\"/content/drive\", force_remount=True).\n"
          ],
          "name": "stdout"
        }
      ]
    },
    {
      "cell_type": "code",
      "metadata": {
        "colab": {
          "base_uri": "https://localhost:8080/"
        },
        "id": "lPfRC7jyeYMA",
        "outputId": "00b53b0c-5ca1-482f-bff5-9e4b489d4bb6"
      },
      "source": [
        "cd /content/drive/MyDrive/'Colab Notebooks'/project/"
      ],
      "execution_count": null,
      "outputs": [
        {
          "output_type": "stream",
          "text": [
            "/content/drive/MyDrive/Colab Notebooks/project\n"
          ],
          "name": "stdout"
        }
      ]
    },
    {
      "cell_type": "code",
      "metadata": {
        "id": "HQuVC1tCebJR"
      },
      "source": [
        "df = pd.read_excel('data_raw.xls')"
      ],
      "execution_count": null,
      "outputs": []
    },
    {
      "cell_type": "code",
      "metadata": {
        "id": "6XYyTw0Gee6o"
      },
      "source": [
        "go_ids = df['Gene ontology IDs']\n",
        "kw_ids = df['Keyword ID']"
      ],
      "execution_count": null,
      "outputs": []
    },
    {
      "cell_type": "code",
      "metadata": {
        "id": "t2OYCwAfevwt"
      },
      "source": [
        "def get_unique_ids(df):\n",
        "  ids = []\n",
        "  df.dropna(axis=0, inplace=True)\n",
        "  id_list=df.tolist()\n",
        "  for entry in id_list:\n",
        "    ids.append(entry.replace(\" \",\"\").split(\";\"))\n",
        "  ids_flat = list(set([item for sublist in ids for item in sublist]))\n",
        "  return ids_flat"
      ],
      "execution_count": null,
      "outputs": []
    },
    {
      "cell_type": "code",
      "metadata": {
        "colab": {
          "base_uri": "https://localhost:8080/",
          "height": 103
        },
        "id": "IFdJ_bRmgD8D",
        "outputId": "aa9b88d5-7749-461d-d06c-3be5b23a5212"
      },
      "source": [
        "go_query = \"\"\n",
        "query = get_unique_ids(go_ids)\n",
        "for entry in query:\n",
        "  go_query=go_query+entry+\",\"\n",
        "go_query"
      ],
      "execution_count": null,
      "outputs": [
        {
          "output_type": "execute_result",
          "data": {
            "application/vnd.google.colaboratory.intrinsic+json": {
              "type": "string"
            },
            "text/plain": [
              "'GO:0045202,GO:0008284,GO:0007205,GO:2000986,GO:0021954,GO:0004672,GO:0005975,GO:0005524,GO:0016758,GO:0031514,GO:0006596,GO:0009306,GO:0031877,GO:0045938,GO:0043203,GO:0071878,GO:0008628,GO:0045776,GO:0031640,GO:0005739,GO:0005246,GO:0007049,GO:0030252,GO:0005509,GO:0006101,GO:0006098,GO:0004616,GO:0008081,GO:0010811,GO:0046982,GO:0000166,GO:0006919,GO:0050909,GO:0006281,GO:1904058,GO:0010447,GO:0007568,GO:0051301,GO:0042117,GO:0007193,GO:0008285,GO:0030072,GO:0006952,GO:0021987,GO:0032099,GO:0050661,GO:0048471,GO:0007267,GO:0016757,GO:0016021,GO:0007268,GO:0007613,GO:0030259,GO:0007165,GO:0000176,GO:0007409,GO:0007631,GO:0032100,GO:0001764,GO:0098992,GO:0032094,GO:0019521,GO:0030425,GO:0005794,GO:0001836,GO:0002865,GO:0003994,GO:0007586,GO:0006811,GO:0032096,GO:0005201,GO:0031843,GO:0043195,GO:0043005,GO:1901215,GO:0007186,GO:2000987,GO:0051539,GO:0014049,GO:0007218,GO:0005829,GO:0005604,GO:0051428,GO:0005886,GO:0048572,GO:0031175,GO:1904407,GO:1904000,GO:0071821,GO:0045187,GO:0005615,GO:0007584,GO:0003676,GO:0005581,GO:0004674,GO:0003682,GO:0001664,GO:0008542,GO:0051538,GO:0005576,GO:0051382,GO:0008343,GO:0007166,GO:0043200,GO:0031297,GO:0005184,GO:0004930,GO:0032903,GO:0016020,GO:0030350,GO:0043204,GO:0016740,GO:0043240,GO:0001878,GO:0044877,GO:0031841,GO:0030334,GO:2000253,GO:0045964,GO:0090729,GO:0006099,GO:0060575,GO:0019731,GO:0090274,GO:0008194,GO:0043025,GO:0006915,GO:0051901,GO:0050830,GO:0009408,GO:0048545,GO:0050829,GO:0030424,GO:0010243,GO:0006396,GO:0042755,GO:0006972,GO:0045087,GO:0007187,GO:0050731,GO:0043194,GO:0005102,GO:1903999,GO:0019732,GO:0090275,GO:0008408,GO:0070374,GO:0000712,GO:0050832,GO:0061844,GO:0042493,GO:0051930,GO:0005737,GO:0031844,GO:0031334,GO:0008217,GO:0005179,GO:0042742,GO:0000777,GO:0005730,GO:0031878,GO:0043065,'"
            ]
          },
          "metadata": {
            "tags": []
          },
          "execution_count": 57
        }
      ]
    },
    {
      "cell_type": "code",
      "metadata": {
        "id": "NCuu8w3IgVCT"
      },
      "source": [
        "requestURL = \"https://www.ebi.ac.uk/QuickGO/services/ontology/go/terms/\"+str(go_query)\n",
        "\n",
        "r = requests.get(requestURL, headers={ \"Accept\" : \"application/json\"})\n",
        "\n",
        "if not r.ok:\n",
        "  r.raise_for_status()\n",
        "  sys.exit()\n",
        "\n",
        "responseBody = json.loads(r.text)\n",
        "\n",
        "go_dict = []\n",
        "\n",
        "number_of_gos = responseBody[\"numberOfHits\"]\n",
        "for i in range(1,number_of_gos):\n",
        "  go_dict.append([responseBody['results'][i]['id'], responseBody['results'][i]['aspect'],responseBody['results'][i]['name']])"
      ],
      "execution_count": null,
      "outputs": []
    },
    {
      "cell_type": "code",
      "metadata": {
        "id": "--ypYRrghptp"
      },
      "source": [
        "kw = pd.read_csv('keywords-all.tab',sep='\\t')"
      ],
      "execution_count": null,
      "outputs": []
    },
    {
      "cell_type": "code",
      "metadata": {
        "colab": {
          "base_uri": "https://localhost:8080/",
          "height": 419
        },
        "id": "20mj0hDOiw5T",
        "outputId": "d4f2d09b-5f7a-4a51-ac1f-de98cab85a01"
      },
      "source": [
        "kw"
      ],
      "execution_count": null,
      "outputs": [
        {
          "output_type": "execute_result",
          "data": {
            "text/html": [
              "<div>\n",
              "<style scoped>\n",
              "    .dataframe tbody tr th:only-of-type {\n",
              "        vertical-align: middle;\n",
              "    }\n",
              "\n",
              "    .dataframe tbody tr th {\n",
              "        vertical-align: top;\n",
              "    }\n",
              "\n",
              "    .dataframe thead th {\n",
              "        text-align: right;\n",
              "    }\n",
              "</style>\n",
              "<table border=\"1\" class=\"dataframe\">\n",
              "  <thead>\n",
              "    <tr style=\"text-align: right;\">\n",
              "      <th></th>\n",
              "      <th>Keyword ID</th>\n",
              "      <th>Name</th>\n",
              "      <th>Description</th>\n",
              "      <th>Category</th>\n",
              "    </tr>\n",
              "  </thead>\n",
              "  <tbody>\n",
              "    <tr>\n",
              "      <th>0</th>\n",
              "      <td>KW-0001</td>\n",
              "      <td>2Fe-2S</td>\n",
              "      <td>Protein which contains at least one 2Fe-2S iro...</td>\n",
              "      <td>Ligand</td>\n",
              "    </tr>\n",
              "    <tr>\n",
              "      <th>1</th>\n",
              "      <td>KW-0002</td>\n",
              "      <td>3D-structure</td>\n",
              "      <td>Protein, or part of a protein, whose three-dim...</td>\n",
              "      <td>Technical term</td>\n",
              "    </tr>\n",
              "    <tr>\n",
              "      <th>2</th>\n",
              "      <td>KW-0003</td>\n",
              "      <td>3Fe-4S</td>\n",
              "      <td>Protein which contains at least one 3Fe-4S iro...</td>\n",
              "      <td>Ligand</td>\n",
              "    </tr>\n",
              "    <tr>\n",
              "      <th>3</th>\n",
              "      <td>KW-0004</td>\n",
              "      <td>4Fe-4S</td>\n",
              "      <td>Protein which contains at least one 4Fe-4S iro...</td>\n",
              "      <td>Ligand</td>\n",
              "    </tr>\n",
              "    <tr>\n",
              "      <th>4</th>\n",
              "      <td>KW-0937</td>\n",
              "      <td>Abscisic acid biosynthesis</td>\n",
              "      <td>Protein involved in the synthesis of abscisic ...</td>\n",
              "      <td>Biological process</td>\n",
              "    </tr>\n",
              "    <tr>\n",
              "      <th>...</th>\n",
              "      <td>...</td>\n",
              "      <td>...</td>\n",
              "      <td>...</td>\n",
              "      <td>...</td>\n",
              "    </tr>\n",
              "    <tr>\n",
              "      <th>1195</th>\n",
              "      <td>KW-0861</td>\n",
              "      <td>Zellweger syndrome</td>\n",
              "      <td>Protein which, if defective, causes Zellweger ...</td>\n",
              "      <td>Disease</td>\n",
              "    </tr>\n",
              "    <tr>\n",
              "      <th>1196</th>\n",
              "      <td>KW-0862</td>\n",
              "      <td>Zinc</td>\n",
              "      <td>Protein which binds at least one zinc atom, or...</td>\n",
              "      <td>Ligand</td>\n",
              "    </tr>\n",
              "    <tr>\n",
              "      <th>1197</th>\n",
              "      <td>KW-0864</td>\n",
              "      <td>Zinc transport</td>\n",
              "      <td>Protein involved in the transport of zinc.</td>\n",
              "      <td>Biological process</td>\n",
              "    </tr>\n",
              "    <tr>\n",
              "      <th>1198</th>\n",
              "      <td>KW-0863</td>\n",
              "      <td>Zinc-finger</td>\n",
              "      <td>Protein which contains at least one zinc finge...</td>\n",
              "      <td>Domain</td>\n",
              "    </tr>\n",
              "    <tr>\n",
              "      <th>1199</th>\n",
              "      <td>KW-0865</td>\n",
              "      <td>Zymogen</td>\n",
              "      <td>The enzymatically inactive precursor of mostly...</td>\n",
              "      <td>PTM</td>\n",
              "    </tr>\n",
              "  </tbody>\n",
              "</table>\n",
              "<p>1200 rows × 4 columns</p>\n",
              "</div>"
            ],
            "text/plain": [
              "     Keyword ID  ...            Category\n",
              "0       KW-0001  ...              Ligand\n",
              "1       KW-0002  ...      Technical term\n",
              "2       KW-0003  ...              Ligand\n",
              "3       KW-0004  ...              Ligand\n",
              "4       KW-0937  ...  Biological process\n",
              "...         ...  ...                 ...\n",
              "1195    KW-0861  ...             Disease\n",
              "1196    KW-0862  ...              Ligand\n",
              "1197    KW-0864  ...  Biological process\n",
              "1198    KW-0863  ...              Domain\n",
              "1199    KW-0865  ...                 PTM\n",
              "\n",
              "[1200 rows x 4 columns]"
            ]
          },
          "metadata": {
            "tags": []
          },
          "execution_count": 95
        }
      ]
    },
    {
      "cell_type": "code",
      "metadata": {
        "id": "MrTfPirjixeJ"
      },
      "source": [
        "go = pd.DataFrame(go_dict, columns=(\"ID\",\"Aspect\",\"Description\"))"
      ],
      "execution_count": null,
      "outputs": []
    },
    {
      "cell_type": "code",
      "metadata": {
        "colab": {
          "base_uri": "https://localhost:8080/",
          "height": 419
        },
        "id": "rvA9ZGfgjtZm",
        "outputId": "ce7fbde5-9aa9-49a0-d314-8231e6324204"
      },
      "source": [
        "go"
      ],
      "execution_count": null,
      "outputs": [
        {
          "output_type": "execute_result",
          "data": {
            "text/html": [
              "<div>\n",
              "<style scoped>\n",
              "    .dataframe tbody tr th:only-of-type {\n",
              "        vertical-align: middle;\n",
              "    }\n",
              "\n",
              "    .dataframe tbody tr th {\n",
              "        vertical-align: top;\n",
              "    }\n",
              "\n",
              "    .dataframe thead th {\n",
              "        text-align: right;\n",
              "    }\n",
              "</style>\n",
              "<table border=\"1\" class=\"dataframe\">\n",
              "  <thead>\n",
              "    <tr style=\"text-align: right;\">\n",
              "      <th></th>\n",
              "      <th>ID</th>\n",
              "      <th>Aspect</th>\n",
              "      <th>Description</th>\n",
              "    </tr>\n",
              "  </thead>\n",
              "  <tbody>\n",
              "    <tr>\n",
              "      <th>0</th>\n",
              "      <td>GO:0003676</td>\n",
              "      <td>molecular_function</td>\n",
              "      <td>nucleic acid binding</td>\n",
              "    </tr>\n",
              "    <tr>\n",
              "      <th>1</th>\n",
              "      <td>GO:0016020</td>\n",
              "      <td>cellular_component</td>\n",
              "      <td>membrane</td>\n",
              "    </tr>\n",
              "    <tr>\n",
              "      <th>2</th>\n",
              "      <td>GO:0016021</td>\n",
              "      <td>cellular_component</td>\n",
              "      <td>integral component of membrane</td>\n",
              "    </tr>\n",
              "    <tr>\n",
              "      <th>3</th>\n",
              "      <td>GO:0031640</td>\n",
              "      <td>biological_process</td>\n",
              "      <td>killing of cells of other organism</td>\n",
              "    </tr>\n",
              "    <tr>\n",
              "      <th>4</th>\n",
              "      <td>GO:0021954</td>\n",
              "      <td>biological_process</td>\n",
              "      <td>central nervous system neuron development</td>\n",
              "    </tr>\n",
              "    <tr>\n",
              "      <th>...</th>\n",
              "      <td>...</td>\n",
              "      <td>...</td>\n",
              "      <td>...</td>\n",
              "    </tr>\n",
              "    <tr>\n",
              "      <th>156</th>\n",
              "      <td>GO:0007268</td>\n",
              "      <td>biological_process</td>\n",
              "      <td>chemical synaptic transmission</td>\n",
              "    </tr>\n",
              "    <tr>\n",
              "      <th>157</th>\n",
              "      <td>GO:0071821</td>\n",
              "      <td>cellular_component</td>\n",
              "      <td>FANCM-MHF complex</td>\n",
              "    </tr>\n",
              "    <tr>\n",
              "      <th>158</th>\n",
              "      <td>GO:0071878</td>\n",
              "      <td>biological_process</td>\n",
              "      <td>negative regulation of adenylate cyclase-activ...</td>\n",
              "    </tr>\n",
              "    <tr>\n",
              "      <th>159</th>\n",
              "      <td>GO:0007409</td>\n",
              "      <td>biological_process</td>\n",
              "      <td>axonogenesis</td>\n",
              "    </tr>\n",
              "    <tr>\n",
              "      <th>160</th>\n",
              "      <td>GO:0046982</td>\n",
              "      <td>molecular_function</td>\n",
              "      <td>protein heterodimerization activity</td>\n",
              "    </tr>\n",
              "  </tbody>\n",
              "</table>\n",
              "<p>161 rows × 3 columns</p>\n",
              "</div>"
            ],
            "text/plain": [
              "             ID  ...                                        Description\n",
              "0    GO:0003676  ...                               nucleic acid binding\n",
              "1    GO:0016020  ...                                           membrane\n",
              "2    GO:0016021  ...                     integral component of membrane\n",
              "3    GO:0031640  ...                 killing of cells of other organism\n",
              "4    GO:0021954  ...          central nervous system neuron development\n",
              "..          ...  ...                                                ...\n",
              "156  GO:0007268  ...                     chemical synaptic transmission\n",
              "157  GO:0071821  ...                                  FANCM-MHF complex\n",
              "158  GO:0071878  ...  negative regulation of adenylate cyclase-activ...\n",
              "159  GO:0007409  ...                                       axonogenesis\n",
              "160  GO:0046982  ...                protein heterodimerization activity\n",
              "\n",
              "[161 rows x 3 columns]"
            ]
          },
          "metadata": {
            "tags": []
          },
          "execution_count": 97
        }
      ]
    },
    {
      "cell_type": "code",
      "metadata": {
        "id": "bzAuEpBKk1IH"
      },
      "source": [
        "spieces = \"Anguilla japonica\"\n",
        "requestURL = \"https://www.ebi.ac.uk/ena/taxonomy/rest/scientific-name/\"+str(spieces)\n",
        "\n",
        "r = requests.get(requestURL, headers={ \"Accept\" : \"application/json\"})\n",
        "\n",
        "if not r.ok:\n",
        "  r.raise_for_status()\n",
        "  sys.exit()\n",
        "\n",
        "responseBody = json.loads(r.text)\n",
        "\n",
        "taxonomy_lineage = [responseBody[0]['lineage'].split(\"; \")[0],\n",
        "                    responseBody[0]['lineage'].split(\"; \")[1],\n",
        "                    responseBody[0]['lineage'].split(\"; \")[2],\n",
        "                    responseBody[0]['lineage'].split(\"; \")[6],\n",
        "                    responseBody[0]['lineage'].split(\"; \")[9],\n",
        "                    responseBody[0]['lineage'].split(\"; \")[12],\n",
        "                    responseBody[0]['scientificName']\n",
        "                    ]"
      ],
      "execution_count": null,
      "outputs": []
    },
    {
      "cell_type": "code",
      "metadata": {
        "colab": {
          "base_uri": "https://localhost:8080/"
        },
        "id": "nJ1BPUyNskwI",
        "outputId": "acc5c53a-917c-4f5c-9e7e-6a7aad32cf96"
      },
      "source": [
        "responseBody"
      ],
      "execution_count": null,
      "outputs": [
        {
          "output_type": "execute_result",
          "data": {
            "text/plain": [
              "[{'commonName': 'Japanese eel',\n",
              "  'division': 'VRT',\n",
              "  'formalName': 'true',\n",
              "  'geneticCode': '1',\n",
              "  'lineage': 'Eukaryota; Metazoa; Chordata; Craniata; Vertebrata; Euteleostomi; Actinopterygii; Neopterygii; Teleostei; Anguilliformes; Anguillidae; Anguilla; ',\n",
              "  'mitochondrialGeneticCode': '2',\n",
              "  'rank': 'species',\n",
              "  'scientificName': 'Anguilla japonica',\n",
              "  'submittable': 'true',\n",
              "  'taxId': '7937'}]"
            ]
          },
          "metadata": {
            "tags": []
          },
          "execution_count": 154
        }
      ]
    },
    {
      "cell_type": "code",
      "metadata": {
        "colab": {
          "base_uri": "https://localhost:8080/"
        },
        "id": "NVy8Tdh0pX8M",
        "outputId": "4641fa94-ed3c-48f4-ebaa-65e349328da8"
      },
      "source": [
        "taxonomy_lineage"
      ],
      "execution_count": null,
      "outputs": [
        {
          "output_type": "execute_result",
          "data": {
            "text/plain": [
              "['Eukaryota',\n",
              " 'Metazoa',\n",
              " 'Chordata',\n",
              " 'Actinopterygii',\n",
              " 'Anguilliformes',\n",
              " '',\n",
              " 'Anguilla japonica']"
            ]
          },
          "metadata": {
            "tags": []
          },
          "execution_count": 155
        }
      ]
    },
    {
      "cell_type": "code",
      "metadata": {
        "colab": {
          "base_uri": "https://localhost:8080/",
          "height": 1000
        },
        "id": "BsQ_OU-fzUyb",
        "outputId": "53347058-b43c-45a9-b871-66572f44d1c2"
      },
      "source": [
        "df"
      ],
      "execution_count": null,
      "outputs": [
        {
          "output_type": "execute_result",
          "data": {
            "text/html": [
              "<div>\n",
              "<style scoped>\n",
              "    .dataframe tbody tr th:only-of-type {\n",
              "        vertical-align: middle;\n",
              "    }\n",
              "\n",
              "    .dataframe tbody tr th {\n",
              "        vertical-align: top;\n",
              "    }\n",
              "\n",
              "    .dataframe thead th {\n",
              "        text-align: right;\n",
              "    }\n",
              "</style>\n",
              "<table border=\"1\" class=\"dataframe\">\n",
              "  <thead>\n",
              "    <tr style=\"text-align: right;\">\n",
              "      <th></th>\n",
              "      <th>Unnamed: 0</th>\n",
              "      <th>Entry</th>\n",
              "      <th>Taxonomic lineage (SUPERKINGDOM)</th>\n",
              "      <th>Taxonomic lineage (KINGDOM)</th>\n",
              "      <th>Taxonomic lineage (PHYLUM)</th>\n",
              "      <th>Taxonomic lineage (CLASS)</th>\n",
              "      <th>Taxonomic lineage (ORDER)</th>\n",
              "      <th>Taxonomic lineage (FAMILY)</th>\n",
              "      <th>Taxonomic lineage (SPECIES)</th>\n",
              "      <th>Taxonomic lineage (GENUS)</th>\n",
              "      <th>Keyword ID</th>\n",
              "      <th>Gene ontology IDs</th>\n",
              "      <th>Cross-reference (pfam)</th>\n",
              "      <th>Sequence</th>\n",
              "    </tr>\n",
              "  </thead>\n",
              "  <tbody>\n",
              "    <tr>\n",
              "      <th>0</th>\n",
              "      <td>0</td>\n",
              "      <td>P29205</td>\n",
              "      <td>Eukaryota</td>\n",
              "      <td>Metazoa</td>\n",
              "      <td>Chordata</td>\n",
              "      <td>Actinopteri</td>\n",
              "      <td>Amiiformes</td>\n",
              "      <td>Amiidae (bowfins)</td>\n",
              "      <td>Amia calva (Bowfin)</td>\n",
              "      <td>Amia</td>\n",
              "      <td>KW-0027; KW-0372; KW-0903; KW-0964</td>\n",
              "      <td>GO:0005179; GO:0005576</td>\n",
              "      <td>PF00159;</td>\n",
              "      <td>YPPKPENPGEDAPPEELARYYTALRHYINLITRQRY</td>\n",
              "    </tr>\n",
              "    <tr>\n",
              "      <th>1</th>\n",
              "      <td>1</td>\n",
              "      <td>Q5JQD4</td>\n",
              "      <td>Eukaryota</td>\n",
              "      <td>Metazoa</td>\n",
              "      <td>Chordata</td>\n",
              "      <td>Mammalia</td>\n",
              "      <td>Primates</td>\n",
              "      <td>Hominidae (great apes)</td>\n",
              "      <td>Homo sapiens (Human)</td>\n",
              "      <td>Homo</td>\n",
              "      <td>KW-0621; KW-0732; KW-0964; KW-1185</td>\n",
              "      <td>GO:0001664; GO:0005179; GO:0005184; GO:0005615...</td>\n",
              "      <td>PF00159;</td>\n",
              "      <td>MVSVCRPWPAVAIALLALLVCLGALVDTCPIKPEAPGEDESLEELS...</td>\n",
              "    </tr>\n",
              "    <tr>\n",
              "      <th>2</th>\n",
              "      <td>2</td>\n",
              "      <td>Q76CL2</td>\n",
              "      <td>Eukaryota</td>\n",
              "      <td>Metazoa</td>\n",
              "      <td>Chordata</td>\n",
              "      <td>Actinopteri</td>\n",
              "      <td>Anguilliformes (true eels)</td>\n",
              "      <td>Anguillidae (freshwater eels)</td>\n",
              "      <td>Anguilla japonica (Japanese eel)</td>\n",
              "      <td>Anguilla</td>\n",
              "      <td>KW-0027; KW-0165; KW-0372; KW-0527; KW-0732; K...</td>\n",
              "      <td>GO:0005179; GO:0005576; GO:0007218</td>\n",
              "      <td>PF00159;</td>\n",
              "      <td>MAVVLKPWTVLVALVLCLLVCLGTFVDAYPPKPENPGEDASPEEQA...</td>\n",
              "    </tr>\n",
              "    <tr>\n",
              "      <th>3</th>\n",
              "      <td>3</td>\n",
              "      <td>P29204</td>\n",
              "      <td>Eukaryota</td>\n",
              "      <td>Metazoa</td>\n",
              "      <td>Chordata</td>\n",
              "      <td>Amphibia</td>\n",
              "      <td>Anura</td>\n",
              "      <td>Ranidae (riparian frogs)</td>\n",
              "      <td>Pelophylax ridibundus (Marsh frog) (Rana ridib...</td>\n",
              "      <td>Pelophylax</td>\n",
              "      <td>KW-0027; KW-0372; KW-0903; KW-0964</td>\n",
              "      <td>GO:0005179; GO:0005576</td>\n",
              "      <td>PF00159;</td>\n",
              "      <td>YPPKPENPGEDASPEEMTKYLTALRHYINLVTRQRY</td>\n",
              "    </tr>\n",
              "    <tr>\n",
              "      <th>4</th>\n",
              "      <td>4</td>\n",
              "      <td>Q9PT99</td>\n",
              "      <td>Eukaryota</td>\n",
              "      <td>Metazoa</td>\n",
              "      <td>Chordata</td>\n",
              "      <td>Actinopteri</td>\n",
              "      <td>NaN</td>\n",
              "      <td>Moronidae (temperate basses)</td>\n",
              "      <td>Dicentrarchus labrax (European seabass) (Moron...</td>\n",
              "      <td>Dicentrarchus</td>\n",
              "      <td>KW-0027; KW-0165; KW-0372; KW-0527; KW-0732; K...</td>\n",
              "      <td>GO:0005179; GO:0005576; GO:0007218</td>\n",
              "      <td>PF00159;</td>\n",
              "      <td>MIHSGAVMSMSILAFCLLACIHSGINAYPAKPASPRDGAPPEELAK...</td>\n",
              "    </tr>\n",
              "    <tr>\n",
              "      <th>...</th>\n",
              "      <td>...</td>\n",
              "      <td>...</td>\n",
              "      <td>...</td>\n",
              "      <td>...</td>\n",
              "      <td>...</td>\n",
              "      <td>...</td>\n",
              "      <td>...</td>\n",
              "      <td>...</td>\n",
              "      <td>...</td>\n",
              "      <td>...</td>\n",
              "      <td>...</td>\n",
              "      <td>...</td>\n",
              "      <td>...</td>\n",
              "      <td>...</td>\n",
              "    </tr>\n",
              "    <tr>\n",
              "      <th>2725</th>\n",
              "      <td>813</td>\n",
              "      <td>A0A2Y9DXK9</td>\n",
              "      <td>Eukaryota</td>\n",
              "      <td>Metazoa</td>\n",
              "      <td>Chordata</td>\n",
              "      <td>Mammalia</td>\n",
              "      <td>Sirenia (manatees and dugongs (seacows))</td>\n",
              "      <td>Trichechidae (manatees)</td>\n",
              "      <td>Trichechus manatus (Caribbean manatee) (West I...</td>\n",
              "      <td>Trichechus</td>\n",
              "      <td>KW-0732; KW-1015; KW-1185</td>\n",
              "      <td>GO:0005179; GO:0005576</td>\n",
              "      <td>PF03002;</td>\n",
              "      <td>MLSCRLQCALAALSIALALGGVTGAPSDPRLRQFLQKSLAAAAGKQ...</td>\n",
              "    </tr>\n",
              "    <tr>\n",
              "      <th>2726</th>\n",
              "      <td>814</td>\n",
              "      <td>A0A3Q7NUN1</td>\n",
              "      <td>Eukaryota</td>\n",
              "      <td>Metazoa</td>\n",
              "      <td>Chordata</td>\n",
              "      <td>Mammalia</td>\n",
              "      <td>Carnivora</td>\n",
              "      <td>Otariidae (fur seals &amp; sea lions)</td>\n",
              "      <td>Callorhinus ursinus (Northern fur seal)</td>\n",
              "      <td>Callorhinus</td>\n",
              "      <td>KW-0732; KW-1015</td>\n",
              "      <td>GO:0005179; GO:0005576</td>\n",
              "      <td>PF03002;</td>\n",
              "      <td>MLSCRLQCALAALSIVLALGGVTGAPSDPRLRQFLQKSLAAAAGKQ...</td>\n",
              "    </tr>\n",
              "    <tr>\n",
              "      <th>2727</th>\n",
              "      <td>815</td>\n",
              "      <td>F6TIY2</td>\n",
              "      <td>Eukaryota</td>\n",
              "      <td>Metazoa</td>\n",
              "      <td>Chordata</td>\n",
              "      <td>Mammalia</td>\n",
              "      <td>Perissodactyla (odd-toed ungulates)</td>\n",
              "      <td>Equidae (horses)</td>\n",
              "      <td>Equus caballus (Horse)</td>\n",
              "      <td>Equus</td>\n",
              "      <td>KW-0732; KW-1015; KW-1185</td>\n",
              "      <td>GO:0005179; GO:0005615; GO:0030334</td>\n",
              "      <td>PF03002;</td>\n",
              "      <td>MLSCRLQCALAALSIVLALGGVTGAPSDPRLRQFLQKSLAAAAGKQ...</td>\n",
              "    </tr>\n",
              "    <tr>\n",
              "      <th>2728</th>\n",
              "      <td>816</td>\n",
              "      <td>G3T956</td>\n",
              "      <td>Eukaryota</td>\n",
              "      <td>Metazoa</td>\n",
              "      <td>Chordata</td>\n",
              "      <td>Mammalia</td>\n",
              "      <td>Proboscidea (elephants)</td>\n",
              "      <td>Elephantidae (elephants)</td>\n",
              "      <td>Loxodonta africana (African elephant)</td>\n",
              "      <td>Loxodonta</td>\n",
              "      <td>KW-0732; KW-1015; KW-1185</td>\n",
              "      <td>GO:0005179; GO:0005615; GO:0030334</td>\n",
              "      <td>PF03002;</td>\n",
              "      <td>MLSCRLQCALAALSIVLALGGVTGAPSDPRLRQFLQKSLAAAAGKQ...</td>\n",
              "    </tr>\n",
              "    <tr>\n",
              "      <th>2729</th>\n",
              "      <td>817</td>\n",
              "      <td>U6CRF6</td>\n",
              "      <td>Eukaryota</td>\n",
              "      <td>Metazoa</td>\n",
              "      <td>Chordata</td>\n",
              "      <td>Mammalia</td>\n",
              "      <td>Carnivora</td>\n",
              "      <td>Mustelidae (weasel, mink, badger, martens and ...</td>\n",
              "      <td>Neovison vison (American mink) (Mustela vison)</td>\n",
              "      <td>Neovison</td>\n",
              "      <td>KW-0732; KW-1015</td>\n",
              "      <td>GO:0005179; GO:0005615; GO:0030334</td>\n",
              "      <td>PF03002;</td>\n",
              "      <td>MLSCRLQCALAALSIVLALGGVTGAPSDPRLRQFLQKSLAAAAGKQ...</td>\n",
              "    </tr>\n",
              "  </tbody>\n",
              "</table>\n",
              "<p>2730 rows × 14 columns</p>\n",
              "</div>"
            ],
            "text/plain": [
              "      Unnamed: 0  ...                                           Sequence\n",
              "0              0  ...               YPPKPENPGEDAPPEELARYYTALRHYINLITRQRY\n",
              "1              1  ...  MVSVCRPWPAVAIALLALLVCLGALVDTCPIKPEAPGEDESLEELS...\n",
              "2              2  ...  MAVVLKPWTVLVALVLCLLVCLGTFVDAYPPKPENPGEDASPEEQA...\n",
              "3              3  ...               YPPKPENPGEDASPEEMTKYLTALRHYINLVTRQRY\n",
              "4              4  ...  MIHSGAVMSMSILAFCLLACIHSGINAYPAKPASPRDGAPPEELAK...\n",
              "...          ...  ...                                                ...\n",
              "2725         813  ...  MLSCRLQCALAALSIALALGGVTGAPSDPRLRQFLQKSLAAAAGKQ...\n",
              "2726         814  ...  MLSCRLQCALAALSIVLALGGVTGAPSDPRLRQFLQKSLAAAAGKQ...\n",
              "2727         815  ...  MLSCRLQCALAALSIVLALGGVTGAPSDPRLRQFLQKSLAAAAGKQ...\n",
              "2728         816  ...  MLSCRLQCALAALSIVLALGGVTGAPSDPRLRQFLQKSLAAAAGKQ...\n",
              "2729         817  ...  MLSCRLQCALAALSIVLALGGVTGAPSDPRLRQFLQKSLAAAAGKQ...\n",
              "\n",
              "[2730 rows x 14 columns]"
            ]
          },
          "metadata": {
            "tags": []
          },
          "execution_count": 161
        }
      ]
    },
    {
      "cell_type": "code",
      "metadata": {
        "id": "CseQGcUW07DK"
      },
      "source": [
        "taxo = df.filter(regex='Taxonomic',axis=1)"
      ],
      "execution_count": null,
      "outputs": []
    },
    {
      "cell_type": "code",
      "metadata": {
        "colab": {
          "base_uri": "https://localhost:8080/",
          "height": 562
        },
        "id": "9AluT87K1cTp",
        "outputId": "c527d6aa-5bfd-4597-8c9f-f6d2fdd3b9aa"
      },
      "source": [
        "taxo[taxo['Taxonomic lineage (SPECIES)'] == 'Homo sapiens (Human)']"
      ],
      "execution_count": null,
      "outputs": [
        {
          "output_type": "execute_result",
          "data": {
            "text/html": [
              "<div>\n",
              "<style scoped>\n",
              "    .dataframe tbody tr th:only-of-type {\n",
              "        vertical-align: middle;\n",
              "    }\n",
              "\n",
              "    .dataframe tbody tr th {\n",
              "        vertical-align: top;\n",
              "    }\n",
              "\n",
              "    .dataframe thead th {\n",
              "        text-align: right;\n",
              "    }\n",
              "</style>\n",
              "<table border=\"1\" class=\"dataframe\">\n",
              "  <thead>\n",
              "    <tr style=\"text-align: right;\">\n",
              "      <th></th>\n",
              "      <th>Taxonomic lineage (SUPERKINGDOM)</th>\n",
              "      <th>Taxonomic lineage (KINGDOM)</th>\n",
              "      <th>Taxonomic lineage (PHYLUM)</th>\n",
              "      <th>Taxonomic lineage (CLASS)</th>\n",
              "      <th>Taxonomic lineage (ORDER)</th>\n",
              "      <th>Taxonomic lineage (FAMILY)</th>\n",
              "      <th>Taxonomic lineage (SPECIES)</th>\n",
              "      <th>Taxonomic lineage (GENUS)</th>\n",
              "    </tr>\n",
              "  </thead>\n",
              "  <tbody>\n",
              "    <tr>\n",
              "      <th>1</th>\n",
              "      <td>Eukaryota</td>\n",
              "      <td>Metazoa</td>\n",
              "      <td>Chordata</td>\n",
              "      <td>Mammalia</td>\n",
              "      <td>Primates</td>\n",
              "      <td>Hominidae (great apes)</td>\n",
              "      <td>Homo sapiens (Human)</td>\n",
              "      <td>Homo</td>\n",
              "    </tr>\n",
              "    <tr>\n",
              "      <th>21</th>\n",
              "      <td>Eukaryota</td>\n",
              "      <td>Metazoa</td>\n",
              "      <td>Chordata</td>\n",
              "      <td>Mammalia</td>\n",
              "      <td>Primates</td>\n",
              "      <td>Hominidae (great apes)</td>\n",
              "      <td>Homo sapiens (Human)</td>\n",
              "      <td>Homo</td>\n",
              "    </tr>\n",
              "    <tr>\n",
              "      <th>28</th>\n",
              "      <td>Eukaryota</td>\n",
              "      <td>Metazoa</td>\n",
              "      <td>Chordata</td>\n",
              "      <td>Mammalia</td>\n",
              "      <td>Primates</td>\n",
              "      <td>Hominidae (great apes)</td>\n",
              "      <td>Homo sapiens (Human)</td>\n",
              "      <td>Homo</td>\n",
              "    </tr>\n",
              "    <tr>\n",
              "      <th>32</th>\n",
              "      <td>Eukaryota</td>\n",
              "      <td>Metazoa</td>\n",
              "      <td>Chordata</td>\n",
              "      <td>Mammalia</td>\n",
              "      <td>Primates</td>\n",
              "      <td>Hominidae (great apes)</td>\n",
              "      <td>Homo sapiens (Human)</td>\n",
              "      <td>Homo</td>\n",
              "    </tr>\n",
              "    <tr>\n",
              "      <th>215</th>\n",
              "      <td>Eukaryota</td>\n",
              "      <td>Metazoa</td>\n",
              "      <td>Chordata</td>\n",
              "      <td>Mammalia</td>\n",
              "      <td>Primates</td>\n",
              "      <td>Hominidae (great apes)</td>\n",
              "      <td>Homo sapiens (Human)</td>\n",
              "      <td>Homo</td>\n",
              "    </tr>\n",
              "    <tr>\n",
              "      <th>288</th>\n",
              "      <td>Eukaryota</td>\n",
              "      <td>Metazoa</td>\n",
              "      <td>Chordata</td>\n",
              "      <td>Mammalia</td>\n",
              "      <td>Primates</td>\n",
              "      <td>Hominidae (great apes)</td>\n",
              "      <td>Homo sapiens (Human)</td>\n",
              "      <td>Homo</td>\n",
              "    </tr>\n",
              "    <tr>\n",
              "      <th>340</th>\n",
              "      <td>Eukaryota</td>\n",
              "      <td>Metazoa</td>\n",
              "      <td>Chordata</td>\n",
              "      <td>Mammalia</td>\n",
              "      <td>Primates</td>\n",
              "      <td>Hominidae (great apes)</td>\n",
              "      <td>Homo sapiens (Human)</td>\n",
              "      <td>Homo</td>\n",
              "    </tr>\n",
              "    <tr>\n",
              "      <th>1241</th>\n",
              "      <td>Eukaryota</td>\n",
              "      <td>Metazoa</td>\n",
              "      <td>Chordata</td>\n",
              "      <td>Mammalia</td>\n",
              "      <td>Primates</td>\n",
              "      <td>Hominidae (great apes)</td>\n",
              "      <td>Homo sapiens (Human)</td>\n",
              "      <td>Homo</td>\n",
              "    </tr>\n",
              "    <tr>\n",
              "      <th>1250</th>\n",
              "      <td>Eukaryota</td>\n",
              "      <td>Metazoa</td>\n",
              "      <td>Chordata</td>\n",
              "      <td>Mammalia</td>\n",
              "      <td>Primates</td>\n",
              "      <td>Hominidae (great apes)</td>\n",
              "      <td>Homo sapiens (Human)</td>\n",
              "      <td>Homo</td>\n",
              "    </tr>\n",
              "    <tr>\n",
              "      <th>1333</th>\n",
              "      <td>Eukaryota</td>\n",
              "      <td>Metazoa</td>\n",
              "      <td>Chordata</td>\n",
              "      <td>Mammalia</td>\n",
              "      <td>Primates</td>\n",
              "      <td>Hominidae (great apes)</td>\n",
              "      <td>Homo sapiens (Human)</td>\n",
              "      <td>Homo</td>\n",
              "    </tr>\n",
              "    <tr>\n",
              "      <th>1334</th>\n",
              "      <td>Eukaryota</td>\n",
              "      <td>Metazoa</td>\n",
              "      <td>Chordata</td>\n",
              "      <td>Mammalia</td>\n",
              "      <td>Primates</td>\n",
              "      <td>Hominidae (great apes)</td>\n",
              "      <td>Homo sapiens (Human)</td>\n",
              "      <td>Homo</td>\n",
              "    </tr>\n",
              "    <tr>\n",
              "      <th>1355</th>\n",
              "      <td>Eukaryota</td>\n",
              "      <td>Metazoa</td>\n",
              "      <td>Chordata</td>\n",
              "      <td>Mammalia</td>\n",
              "      <td>Primates</td>\n",
              "      <td>Hominidae (great apes)</td>\n",
              "      <td>Homo sapiens (Human)</td>\n",
              "      <td>Homo</td>\n",
              "    </tr>\n",
              "    <tr>\n",
              "      <th>1916</th>\n",
              "      <td>Eukaryota</td>\n",
              "      <td>Metazoa</td>\n",
              "      <td>Chordata</td>\n",
              "      <td>Mammalia</td>\n",
              "      <td>Primates</td>\n",
              "      <td>Hominidae (great apes)</td>\n",
              "      <td>Homo sapiens (Human)</td>\n",
              "      <td>Homo</td>\n",
              "    </tr>\n",
              "    <tr>\n",
              "      <th>1936</th>\n",
              "      <td>Eukaryota</td>\n",
              "      <td>Metazoa</td>\n",
              "      <td>Chordata</td>\n",
              "      <td>Mammalia</td>\n",
              "      <td>Primates</td>\n",
              "      <td>Hominidae (great apes)</td>\n",
              "      <td>Homo sapiens (Human)</td>\n",
              "      <td>Homo</td>\n",
              "    </tr>\n",
              "    <tr>\n",
              "      <th>2013</th>\n",
              "      <td>Eukaryota</td>\n",
              "      <td>Metazoa</td>\n",
              "      <td>Chordata</td>\n",
              "      <td>Mammalia</td>\n",
              "      <td>Primates</td>\n",
              "      <td>Hominidae (great apes)</td>\n",
              "      <td>Homo sapiens (Human)</td>\n",
              "      <td>Homo</td>\n",
              "    </tr>\n",
              "    <tr>\n",
              "      <th>2014</th>\n",
              "      <td>Eukaryota</td>\n",
              "      <td>Metazoa</td>\n",
              "      <td>Chordata</td>\n",
              "      <td>Mammalia</td>\n",
              "      <td>Primates</td>\n",
              "      <td>Hominidae (great apes)</td>\n",
              "      <td>Homo sapiens (Human)</td>\n",
              "      <td>Homo</td>\n",
              "    </tr>\n",
              "  </tbody>\n",
              "</table>\n",
              "</div>"
            ],
            "text/plain": [
              "     Taxonomic lineage (SUPERKINGDOM)  ... Taxonomic lineage (GENUS)\n",
              "1                           Eukaryota  ...                      Homo\n",
              "21                          Eukaryota  ...                      Homo\n",
              "28                          Eukaryota  ...                      Homo\n",
              "32                          Eukaryota  ...                      Homo\n",
              "215                         Eukaryota  ...                      Homo\n",
              "288                         Eukaryota  ...                      Homo\n",
              "340                         Eukaryota  ...                      Homo\n",
              "1241                        Eukaryota  ...                      Homo\n",
              "1250                        Eukaryota  ...                      Homo\n",
              "1333                        Eukaryota  ...                      Homo\n",
              "1334                        Eukaryota  ...                      Homo\n",
              "1355                        Eukaryota  ...                      Homo\n",
              "1916                        Eukaryota  ...                      Homo\n",
              "1936                        Eukaryota  ...                      Homo\n",
              "2013                        Eukaryota  ...                      Homo\n",
              "2014                        Eukaryota  ...                      Homo\n",
              "\n",
              "[16 rows x 8 columns]"
            ]
          },
          "metadata": {
            "tags": []
          },
          "execution_count": 175
        }
      ]
    },
    {
      "cell_type": "code",
      "metadata": {
        "id": "n5midGn-2HTY"
      },
      "source": [
        ""
      ],
      "execution_count": null,
      "outputs": []
    }
  ]
}